{
 "cells": [
  {
   "cell_type": "code",
   "execution_count": 3,
   "id": "b512a43a-6812-4594-8574-0f101d7d1dda",
   "metadata": {
    "scrolled": true
   },
   "outputs": [
    {
     "name": "stdout",
     "output_type": "stream",
     "text": [
      "c:\\Users\\evano\\Documents\\GitHub\\TFG\\tfg-env\\Lib\\site-packages\n"
     ]
    }
   ],
   "source": [
    "import glob                 # localizar todos los CSV en la carpeta\n",
    "import pathlib              # manejar rutas de forma portable\n",
    "import pandas as pd         # cargar y agrupar los datos\n",
    "import spacy                # núcleo NLP\n",
    "import pytextrank           # registra la factory \"textrank\" al importarse\n",
    "from negspacy.negation import Negex  # idem para \"negex\""
   ]
  },
  {
   "cell_type": "code",
   "execution_count": null,
   "id": "78affabd-af36-48cd-974d-55dd3a1e39e4",
   "metadata": {},
   "outputs": [],
   "source": []
  }
 ],
 "metadata": {
  "kernelspec": {
   "display_name": "tfg-env",
   "language": "python",
   "name": "python3"
  },
  "language_info": {
   "codemirror_mode": {
    "name": "ipython",
    "version": 3
   },
   "file_extension": ".py",
   "mimetype": "text/x-python",
   "name": "python",
   "nbconvert_exporter": "python",
   "pygments_lexer": "ipython3",
   "version": "3.12.10"
  }
 },
 "nbformat": 4,
 "nbformat_minor": 5
}
