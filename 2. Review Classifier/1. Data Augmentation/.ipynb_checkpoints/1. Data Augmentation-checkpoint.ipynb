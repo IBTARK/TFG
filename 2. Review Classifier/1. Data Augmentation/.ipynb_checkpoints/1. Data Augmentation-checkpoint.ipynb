{
 "cells": [
  {
   "cell_type": "markdown",
   "id": "e7c2d0ec-b1c2-4e74-8c57-562b03aff8f1",
   "metadata": {},
   "source": [
    "# Ampliación de datos\n",
    "\n",
    "En este notebook se va a aplicar la técnica de ampliación de datos a un conjunto de reseñas de Google Maps separadas en dos ficheros: uno con las reseñas que se van a considerar válidas y el otro con las inválidas. Cada línea es una reseña nueva."
   ]
  },
  {
   "cell_type": "markdown",
   "id": "7e0485a5-5543-499d-a2a6-ce3ab7333f3c",
   "metadata": {},
   "source": [
    "### Imports"
   ]
  },
  {
   "cell_type": "code",
   "execution_count": 1,
   "id": "f54d4a66-799a-460d-b32e-b71b3755cbf2",
   "metadata": {},
   "outputs": [],
   "source": [
    "import pandas as pd\n",
    "from deep_translator import (GoogleTranslator, MyMemoryTranslator)\n",
    "import copy\n",
    "import time"
   ]
  },
  {
   "cell_type": "markdown",
   "id": "cf20fd15-c646-4f3d-857f-3b2d8822f88e",
   "metadata": {},
   "source": [
    "### Direcorio de datos"
   ]
  },
  {
   "cell_type": "code",
   "execution_count": 2,
   "id": "c311128e-92e1-4101-b796-8b8165fe12ef",
   "metadata": {},
   "outputs": [],
   "source": [
    "validReviewsPath = \"/home/ibon/Documentos/GitHub/TFG/1. Data/4. Labeled Reviews/2. Without Emojis/ValidReviews.txt\"\n",
    "invalidReviewsPath = \"/home/ibon/Documentos/GitHub/TFG/1. Data/4. Labeled Reviews/2. Without Emojis/InvalidReviews.txt\""
   ]
  },
  {
   "cell_type": "markdown",
   "id": "7d6ac5b7-6508-4ea6-bca1-ffe46883ecc8",
   "metadata": {},
   "source": [
    "### Pandas\n",
    "Se van a pasar los datos a dataframes: uno con las valoraciones validas y otro con las negativas. Cada fila del dataframe será una reseña"
   ]
  },
  {
   "cell_type": "code",
   "execution_count": 3,
   "id": "66162710-f9ad-43e4-a0bf-1f5a92a065a9",
   "metadata": {},
   "outputs": [],
   "source": [
    "def importFromTxtToDF(source):\n",
    "    with open(source, 'r', encoding=\"utf-8\") as file:\n",
    "        #Generate a list with all the reviews\n",
    "        targetList = [line.strip() for line in file]\n",
    "\n",
    "    targetDF = pd.DataFrame(targetList, columns=['Text'])\n",
    "    return targetDF"
   ]
  },
  {
   "cell_type": "code",
   "execution_count": 4,
   "id": "0b5a9830-a956-4dd6-9b78-26f4866a408e",
   "metadata": {},
   "outputs": [],
   "source": [
    "#Read the file with the valid reviews\n",
    "validReviewsDF = importFromTxtToDF(validReviewsPath)\n",
    "#Read the file with the invalid reviews\n",
    "invalidReviewsDF = importFromTxtToDF(invalidReviewsPath)"
   ]
  },
  {
   "cell_type": "markdown",
   "id": "30ca07cf-8f96-40c5-886e-9a26f7524bfe",
   "metadata": {},
   "source": [
    "Se muestran las primeras reseñas válidas"
   ]
  },
  {
   "cell_type": "code",
   "execution_count": 5,
   "id": "9f1cdd36-9728-4962-a4bd-b6bf4731e01f",
   "metadata": {},
   "outputs": [
    {
     "data": {
      "text/html": [
       "<div>\n",
       "<style scoped>\n",
       "    .dataframe tbody tr th:only-of-type {\n",
       "        vertical-align: middle;\n",
       "    }\n",
       "\n",
       "    .dataframe tbody tr th {\n",
       "        vertical-align: top;\n",
       "    }\n",
       "\n",
       "    .dataframe thead th {\n",
       "        text-align: right;\n",
       "    }\n",
       "</style>\n",
       "<table border=\"1\" class=\"dataframe\">\n",
       "  <thead>\n",
       "    <tr style=\"text-align: right;\">\n",
       "      <th></th>\n",
       "      <th>Text</th>\n",
       "    </tr>\n",
       "  </thead>\n",
       "  <tbody>\n",
       "    <tr>\n",
       "      <th>0</th>\n",
       "      <td>\"Tiene fácil acceso para las personas con movi...</td>\n",
       "    </tr>\n",
       "    <tr>\n",
       "      <th>1</th>\n",
       "      <td>\"Espero que hayan mejorais\"</td>\n",
       "    </tr>\n",
       "    <tr>\n",
       "      <th>2</th>\n",
       "      <td>\"La estación es antigua, aparte de tener una s...</td>\n",
       "    </tr>\n",
       "    <tr>\n",
       "      <th>3</th>\n",
       "      <td>\"Bien\"</td>\n",
       "    </tr>\n",
       "    <tr>\n",
       "      <th>4</th>\n",
       "      <td>\"Bonito comodo\"</td>\n",
       "    </tr>\n",
       "  </tbody>\n",
       "</table>\n",
       "</div>"
      ],
      "text/plain": [
       "                                                Text\n",
       "0  \"Tiene fácil acceso para las personas con movi...\n",
       "1                        \"Espero que hayan mejorais\"\n",
       "2  \"La estación es antigua, aparte de tener una s...\n",
       "3                                             \"Bien\"\n",
       "4                                    \"Bonito comodo\""
      ]
     },
     "execution_count": 5,
     "metadata": {},
     "output_type": "execute_result"
    }
   ],
   "source": [
    "validReviewsDF.head()"
   ]
  },
  {
   "cell_type": "markdown",
   "id": "9c57d6e4-e380-4a66-a893-b032b7257254",
   "metadata": {},
   "source": [
    "Se muestran las primeras reseñas inválidas"
   ]
  },
  {
   "cell_type": "code",
   "execution_count": 6,
   "id": "6074bca2-03f7-4503-8dcf-01069a61d953",
   "metadata": {},
   "outputs": [
    {
     "data": {
      "text/html": [
       "<div>\n",
       "<style scoped>\n",
       "    .dataframe tbody tr th:only-of-type {\n",
       "        vertical-align: middle;\n",
       "    }\n",
       "\n",
       "    .dataframe tbody tr th {\n",
       "        vertical-align: top;\n",
       "    }\n",
       "\n",
       "    .dataframe thead th {\n",
       "        text-align: right;\n",
       "    }\n",
       "</style>\n",
       "<table border=\"1\" class=\"dataframe\">\n",
       "  <thead>\n",
       "    <tr style=\"text-align: right;\">\n",
       "      <th></th>\n",
       "      <th>Text</th>\n",
       "    </tr>\n",
       "  </thead>\n",
       "  <tbody>\n",
       "    <tr>\n",
       "      <th>0</th>\n",
       "      <td>\"He vivido 35 años en el barrio y reconozco qu...</td>\n",
       "    </tr>\n",
       "    <tr>\n",
       "      <th>1</th>\n",
       "      <td>\"localización con muchos bares interesantes\"</td>\n",
       "    </tr>\n",
       "    <tr>\n",
       "      <th>2</th>\n",
       "      <td>\"…\"</td>\n",
       "    </tr>\n",
       "    <tr>\n",
       "      <th>3</th>\n",
       "      <td>\"Muy rica comida..\"</td>\n",
       "    </tr>\n",
       "    <tr>\n",
       "      <th>4</th>\n",
       "      <td>\"Estación del.metro\"</td>\n",
       "    </tr>\n",
       "  </tbody>\n",
       "</table>\n",
       "</div>"
      ],
      "text/plain": [
       "                                                Text\n",
       "0  \"He vivido 35 años en el barrio y reconozco qu...\n",
       "1       \"localización con muchos bares interesantes\"\n",
       "2                                                \"…\"\n",
       "3                                \"Muy rica comida..\"\n",
       "4                               \"Estación del.metro\""
      ]
     },
     "execution_count": 6,
     "metadata": {},
     "output_type": "execute_result"
    }
   ],
   "source": [
    "invalidReviewsDF.head()"
   ]
  },
  {
   "cell_type": "markdown",
   "id": "76053968-2837-4890-9018-53164468d5e2",
   "metadata": {},
   "source": [
    "## Medidas de similitud\n",
    "Para poder comparar frases y seleccionar las mejores para generar los mejores datasets se van a desarrollar las siguientes medidas de similitud."
   ]
  },
  {
   "cell_type": "markdown",
   "id": "d3cabc1a-a9a7-4338-b716-670faa6759f4",
   "metadata": {},
   "source": [
    "### Similitud Semántica\n",
    "\n",
    "A continuación se va a diseñar una función para calcular la similitud semántica entre pares de oraciones. Es decir, se van a calcular los embeddings de oraciones de cada par de frases y se va a usar una métrica de similitud para ver como de parecido es el significado de ambas frases.\n",
    "\n",
    "Se va a usar una versión de SBERT, llamada MiniLM (Minimal Lenguaje Model), que utiliza una variante más pequeña. Se usa MiniLM de seis capas (L6), que logra una precisón buena con menos recursos.\n",
    "\n",
    "Este modelo fue entrenado usando un dataset que incluye datos en varios idiomas, entre ellos el español. Consecuentemente, no hay problema al introducir frases en castellano. Es cierto, que obtiene mejores resultados para frases en inglés, ya que se entreno con más datos en este idioma.\n",
    "\n",
    "MiniLM es un modelo específicamente entrenado para mapear frases y parrafos a un espacio vectorial de 384 dimensiones. Es decir, este modelo permite obtener un embedding de una frase directamente. Usando otros modelos esta tarea no es posible de forma directa, ya que devuelven un embedding para cada palabra del texto.\n",
    "\n",
    "El método de similitud que se va a usar es la similitud del coseno, por lo que los valores más cercanos a uno indicarán una mayor similitud entre las frases"
   ]
  },
  {
   "cell_type": "code",
   "execution_count": 2,
   "id": "5f362a20-b0b3-47a0-a3c5-bd3d880b100a",
   "metadata": {},
   "outputs": [],
   "source": [
    "from sklearn.metrics.pairwise import cosine_similarity\n",
    "\n",
    "#Given two texts and a model, the semantic similarity of the texts is returned\n",
    "def getSemanticSimilarity(text1, text2, model):\n",
    "    #Get the embeddings of the senteces\n",
    "    embedding1 = model.encode(text1)\n",
    "    embedding2 = model.encode(text2)\n",
    "\n",
    "    #Get the cosine similarity of the senteces\n",
    "    similarity = cosine_similarity([embedding1], [embedding2])\n",
    "\n",
    "    return similarity[0][0]"
   ]
  },
  {
   "cell_type": "markdown",
   "id": "12cfd655-adc8-4e17-b7e6-7317ee6ac73c",
   "metadata": {},
   "source": [
    "### Similitud Léxica\n",
    "Se va a diseñar una función para calcular la similitud léxica entre pares de oraciones. La similitud léxica mide el grado de coincidencia de palabras o términos entre dos frases o textos, sin tener en cuenta el significado subyacente.\n",
    "\n",
    "Hay varias formas de realizar este cálculo: similitud del coseno basada en frecuencia de palabras, coeficiente de Jaccard,coeficiente de Dice ...\n",
    "\n",
    "En este caso, se cree que la mejor opción es usar el coeficiente de Jaccard ya que calcula la similitud en función de la proporción de palabras comunes sobre el total de palabras únicas. Consecuentemente, esto nos permitirá detectar frases con menos coincidencias exactas en palabras.\n",
    "\n",
    "Cuanto más cercano a uno sea el coeficiente de Jaccard más similares léxicamente serán las frases."
   ]
  },
  {
   "cell_type": "code",
   "execution_count": 3,
   "id": "9351fcd7-4bd3-44d4-87b5-f80332bb6b6f",
   "metadata": {},
   "outputs": [],
   "source": [
    "import unicodedata\n",
    "import re\n",
    "\n",
    "#Clean up the text removing punctuation, accent marks and convertin everything to lowercase\n",
    "def cleanText(text):\n",
    "    text = unicodedata.normalize('NFKD', text.lower()).encode('ascii', 'ignore').decode('utf-8', 'ignore')\n",
    "    text = re.sub(r'[^\\w\\s]', '', text)  # Remove punctuation\n",
    "    return text"
   ]
  },
  {
   "cell_type": "code",
   "execution_count": 8,
   "id": "9cb9a832-8b99-4a74-a0f4-9fd6fabd3716",
   "metadata": {},
   "outputs": [],
   "source": [
    "def revomeSpanishStopWords(text):\n",
    "    determinantes = {\"el\", \"la\", \"los\", \"las\", \"un\", \"una\", \"unos\", \"unas\", \"este\", \"esta\", \"estos\", \"estas\",\n",
    "                 \"ese\", \"esa\", \"esos\", \"esas\", \"aquel\", \"aquella\", \"aquellos\", \"aquellas\", \"mi\", \"mis\",\n",
    "                 \"tu\", \"tus\", \"su\", \"sus\", \"nuestro\", \"nuestra\", \"nuestros\", \"nuestras\", \"vuestro\", \n",
    "                 \"vuestra\", \"vuestros\", \"vuestras\", \"primer\", \"primero\", \"primera\", \"segundo\", \"segunda\"}\n",
    "\n",
    "    preposiciones = {\"a\", \"ante\", \"bajo\", \"cabe\", \"con\", \"contra\", \"de\", \"desde\", \"durante\", \"en\", \"entre\", \n",
    "                 \"hacia\", \"hasta\", \"mediante\", \"para\", \"por\", \"según\", \"sin\", \"sobre\", \"tras\", \"versus\", \"vía\"}\n",
    "\n",
    "    conjunciones = {\"y\", \"e\", \"ni\", \"o\", \"u\", \"pero\", \"sino\", \"sino que\", \"mas\", \"aunque\", \"que\", \"porque\", \n",
    "                \"como\", \"cuando\", \"donde\", \"mientras\", \"para que\", \"a fin de que\", \"puesto que\", \"ya que\", \n",
    "                \"si\", \"siempre que\"}\n",
    "    pronombres = {\n",
    "        # Pronombres personales\n",
    "        \"yo\", \"tú\", \"vos\", \"él\", \"ella\", \"nosotros\", \"nosotras\", \n",
    "        \"vosotros\", \"vosotras\", \"ellos\", \"ellas\", \"usted\", \"ustedes\",\n",
    "        \"me\", \"te\", \"lo\", \"la\", \"nos\", \"os\", \"los\", \"las\", \"le\", \"les\", \"se\",\n",
    "    \n",
    "        # Pronombres posesivos\n",
    "        \"mío\", \"mía\", \"míos\", \"mías\", \n",
    "        \"tuyo\", \"tuya\", \"tuyos\", \"tuyas\", \n",
    "        \"suyo\", \"suya\", \"suyos\", \"suyas\", \n",
    "        \"nuestro\", \"nuestra\", \"nuestros\", \"nuestras\", \n",
    "        \"vuestro\", \"vuestra\", \"vuestros\", \"vuestras\",\n",
    "    \n",
    "        # Pronombres demostrativos\n",
    "        \"este\", \"esta\", \"estos\", \"estas\", \n",
    "        \"ese\", \"esa\", \"esos\", \"esas\", \n",
    "        \"aquel\", \"aquella\", \"aquellos\", \"aquellas\",\n",
    "    \n",
    "        # Pronombres relativos\n",
    "        \"que\", \"cual\", \"cuales\", \"quien\", \"quienes\", \n",
    "        \"cuyo\", \"cuya\", \"cuyos\", \"cuyas\", \"donde\",\n",
    "    \n",
    "        # Pronombres interrogativos y exclamativos\n",
    "        \"qué\", \"quién\", \"quiénes\", \"cuál\", \"cuáles\", \n",
    "        \"cuánto\", \"cuánta\", \"cuántos\", \"cuántas\", \n",
    "        \"dónde\", \"cómo\", \"cuándo\",\n",
    "    \n",
    "        # Pronombres indefinidos\n",
    "        \"alguien\", \"algo\", \"nadie\", \"nada\", \"cualquiera\", \n",
    "        \"todos\", \"todas\", \"varios\", \"varias\", \"muchos\", \n",
    "        \"muchas\", \"pocos\", \"pocas\", \"alguno\", \"alguna\", \n",
    "        \"algunos\", \"algunas\", \"ninguno\", \"ninguna\", \n",
    "        \"uno\", \"una\", \"unos\", \"unas\", \"demás\"\n",
    "    }\n",
    "\n",
    "    #Combine all the words in one set\n",
    "    spanishStopWords = determinantes | preposiciones | conjunciones | pronombres\n",
    "\n",
    "    textWithoutStopWords = [word for word in text.split() if word.lower() not in spanishStopWords]\n",
    "\n",
    "    return \" \".join(textWithoutStopWords)"
   ]
  },
  {
   "cell_type": "code",
   "execution_count": 4,
   "id": "6c35a79c-e4e7-4854-9b4f-67b925b37928",
   "metadata": {},
   "outputs": [],
   "source": [
    "#Jaccard similarity\n",
    "def jaccardSimilarity(text1, text2):\n",
    "    #Get the set of words of each text\n",
    "    wordsInText1 = set(revomeSpanishStopWords(cleanText(text1)).split())\n",
    "    wordsInText2 = set(revomeSpanishStopWords(cleanText(text2)).split())\n",
    "\n",
    "    intersection = len(wordsInText1.intersection(wordsInText2)) \n",
    "    union = len(wordsInText1.union(wordsInText2))\n",
    "    \n",
    "    if union == 0:\n",
    "        return 0\n",
    "\n",
    "    #intersection / union\n",
    "    return intersection / union"
   ]
  },
  {
   "cell_type": "code",
   "execution_count": 5,
   "id": "b3c7a577-4e14-4d46-9954-cf96575bf14e",
   "metadata": {},
   "outputs": [],
   "source": [
    "#Given two texts, the Jaccard similarity of those texts is returned\n",
    "def getLexicalSimilarity(text1, text2):\n",
    "    return jaccardSimilarity(text1, text2)"
   ]
  },
  {
   "cell_type": "markdown",
   "id": "72b81dbd-a09d-4a75-9fd0-ae00c1d45366",
   "metadata": {},
   "source": [
    "## Retrotraducción\n",
    "\n",
    "El primer método de ampliación de datos que se va a usar va a ser la retrotraducción. Consiste en traducir el texto a un idioma distinto y luego volverlo a traducir al idioma original. \n",
    "\n",
    "Este proceso puede genera texto con el mismo significado que el original pero distintas palabras."
   ]
  },
  {
   "cell_type": "code",
   "execution_count": 7,
   "id": "6d137f41-d490-4723-b33d-252f91ea8040",
   "metadata": {},
   "outputs": [],
   "source": [
    "def BackTranslation(translatorsList, reviewsDF, targetPath):\n",
    "    #Generate a data list to store the text that has to be translated\n",
    "    notTranslatedList = reviewsDF['Text'].tolist()\n",
    "\n",
    "    #Translate the text as many times as needed\n",
    "    for translator in translatorsList:\n",
    "        #Generate a data frame to store the text that has been translated\n",
    "        translatedList = []\n",
    "        for elem in notTranslatedList:\n",
    "            #Translate all the reviews\n",
    "            try:\n",
    "                translation = translator.translate(elem)\n",
    "            except Exception as e: #If the translation fails \"\" is written\n",
    "                translation = '\"\"'\n",
    "            #If an error ocurred translate it to a \"\"\n",
    "            if translation == None:\n",
    "                translation = '\"\"'\n",
    "                \n",
    "            #Save the translations in the corresponding list \n",
    "            translatedList.append(translation)\n",
    "\n",
    "            #Wait 0.2 seconds not to collapse the server\n",
    "            time.sleep(0.2)\n",
    "\n",
    "        #Prepare to translate again if needed\n",
    "        notTranslatedList = copy.deepcopy(translatedList) \n",
    "       \n",
    "    #Open the file in which the translations are strored\n",
    "    translationFile = open(targetPath, 'w', encoding=\"utf-8\")\n",
    "    #write all the translations\n",
    "    for elem in translatedList:\n",
    "        translationFile.write(elem + \"\\n\")\n",
    "    #Close the file\n",
    "    translationFile.close()\n",
    "    \n",
    "    return pd.DataFrame(translatedList, columns=['Text'])"
   ]
  },
  {
   "cell_type": "markdown",
   "id": "cb3dd031-96ec-4ac7-9c93-c7ea4cff8fce",
   "metadata": {},
   "source": [
    "### Google Translator"
   ]
  },
  {
   "cell_type": "markdown",
   "id": "28785755-a28b-4caa-8c37-9f86cabb95e1",
   "metadata": {},
   "source": [
    "Primero se va a traducir del castellano al ingles y luego del inglés al castellano"
   ]
  },
  {
   "cell_type": "code",
   "execution_count": 8,
   "id": "d8c9d79f-598c-423d-9092-05b4ed9e0fa3",
   "metadata": {},
   "outputs": [],
   "source": [
    "validPath = '1. Back Translation\\\\1. Google Translator\\\\ValidReviewsTranslationsEsEnEnEs.txt'\n",
    "invalidPath = '1. Back Translation\\\\1. Google Translator\\\\InvalidReviewsTranslationsEsEnEnEs.txt'\n",
    "\n",
    "firstTranslator = GoogleTranslator(source = 'es', target = 'en')\n",
    "secondTranslator = GoogleTranslator(source='en', target='es')\n",
    "\n",
    "translatorList = [firstTranslator, secondTranslator]\n",
    "\n",
    "validSpanishReviewsGoogleEsEnEnEsDF = BackTranslation(translatorList, validReviewsDF, validPath)\n",
    "invalidSpanishReviewsGoogleEsEnEnESDF = BackTranslation(translatorList, invalidReviewsDF, invalidPath)"
   ]
  },
  {
   "cell_type": "markdown",
   "id": "f92e9e09-275c-4b2e-bc8a-0824a8e809fc",
   "metadata": {},
   "source": [
    "A continuación se va a traducir del castellano al japonés y del japonés al castellano"
   ]
  },
  {
   "cell_type": "code",
   "execution_count": 9,
   "id": "587bc968-c0b2-437c-8f89-e3bd1e30ca7c",
   "metadata": {},
   "outputs": [],
   "source": [
    "validPath = '1. Back Translation\\\\1. Google Translator\\\\ValidReviewsTranslationsEsJaJaEs.txt'\n",
    "invalidPath = '1. Back Translation\\\\1. Google Translator\\\\InvalidReviewsTranslationsEsJaJaEs.txt'\n",
    "\n",
    "firstTranslator = GoogleTranslator(source = 'es', target = 'ja')\n",
    "secondTranslator = GoogleTranslator(source='ja', target='es')\n",
    "\n",
    "translatorList = [firstTranslator, secondTranslator]\n",
    "\n",
    "validSpanishReviewsGoogleEsJaJaEsDF = BackTranslation(translatorList, validReviewsDF, validPath)\n",
    "invalidSpanishReviewsGoogleEsJaJaEsDF = BackTranslation(translatorList, invalidReviewsDF, invalidPath)"
   ]
  },
  {
   "cell_type": "markdown",
   "id": "5d9adc18-5942-4324-9ce4-52d941f1ef0a",
   "metadata": {},
   "source": [
    "Por último se va a implementar una cadena de traducciones más larga: castellano a frances, frances a japones, japones a ruso y ruso a catellano."
   ]
  },
  {
   "cell_type": "code",
   "execution_count": 10,
   "id": "14f0b7f2-efd6-4329-8d88-07b12d32e130",
   "metadata": {},
   "outputs": [],
   "source": [
    "validPath = '1. Back Translation\\\\1. Google Translator\\\\ValidReviewsTranslationsEsFrFrJaJaRuRuEs.txt'\n",
    "invalidPath = '1. Back Translation\\\\1. Google Translator\\\\InvalidReviewsTranslationsEsFrFrJaJaRuRuEs.txt'\n",
    "\n",
    "firstTranslator = GoogleTranslator(source = 'es', target = 'fr')\n",
    "secondTranslator = GoogleTranslator(source='fr', target='ja')\n",
    "thirdTranslator = GoogleTranslator(source='ja', target='ru')\n",
    "fourthTranslator = GoogleTranslator(source='ru', target='es')\n",
    "\n",
    "translatorList = [firstTranslator, secondTranslator, thirdTranslator, fourthTranslator]\n",
    "\n",
    "validSpanishReviewsGoogleEsFrFrJaJaRuRuEsDF = BackTranslation(translatorList, validReviewsDF, validPath)\n",
    "invalidSpanishReviewsGoogleEsFrFrJaJaRuRuEsDF = BackTranslation(translatorList, invalidReviewsDF, invalidPath)"
   ]
  },
  {
   "cell_type": "markdown",
   "id": "9a245504-b6e0-47a3-9276-2498b5f147dd",
   "metadata": {},
   "source": [
    "### MyMemory Translator"
   ]
  },
  {
   "cell_type": "markdown",
   "id": "79951b8d-efd6-414f-a644-d44895f204c3",
   "metadata": {},
   "source": [
    "Se van a realizar las mismas traducciones pero usando otro traductor"
   ]
  },
  {
   "cell_type": "markdown",
   "id": "d42669f5-986e-457f-943e-354d638a8da5",
   "metadata": {},
   "source": [
    "Castellano -> Inglés -> Castellano"
   ]
  },
  {
   "cell_type": "code",
   "execution_count": 11,
   "id": "33609a91-efa8-4d7c-9ab0-cdd9238b1f9f",
   "metadata": {},
   "outputs": [],
   "source": [
    "validPath = '1. Back Translation\\\\2. MyMemory Translator\\\\ValidReviewsTranslationsEsEnEnEs.txt'\n",
    "invalidPath = '1. Back Translation\\\\2. MyMemory Translator\\\\InvalidReviewsTranslationsEsEnEnEs.txt'\n",
    "\n",
    "firstTranslator = MyMemoryTranslator(source = 'spanish', target = 'english')\n",
    "secondTranslator = MyMemoryTranslator(source='english', target='spanish')\n",
    "\n",
    "translatorList = [firstTranslator, secondTranslator]\n",
    "\n",
    "validSpanishReviewsMyMemoryEsEnEnEsDF = BackTranslation(translatorList, validReviewsDF, validPath)\n",
    "invalidSpanishReviewsMyMemoryEsEnEnEsDF = BackTranslation(translatorList, invalidReviewsDF, invalidPath)"
   ]
  },
  {
   "cell_type": "markdown",
   "id": "90792d9d-d9df-43cf-96e1-4b8793450c79",
   "metadata": {},
   "source": [
    "Castellano -> Japonés -> Castellano"
   ]
  },
  {
   "cell_type": "code",
   "execution_count": 12,
   "id": "a207d69a-a95f-401b-ad78-0ca9c32cffba",
   "metadata": {},
   "outputs": [],
   "source": [
    "validPath = '1. Back Translation\\\\2. MyMemory Translator\\\\ValidReviewsTranslationsEsJaJaEs.txt'\n",
    "invalidPath = '1. Back Translation\\\\2. MyMemory Translator\\\\InvalidReviewsTranslationsEsJaJaEs.txt'\n",
    "\n",
    "firstTranslator = MyMemoryTranslator(source = 'spanish', target = 'japanese')\n",
    "secondTranslator = MyMemoryTranslator(source='japanese', target='spanish')\n",
    "\n",
    "translatorList = [firstTranslator, secondTranslator]\n",
    "\n",
    "validSpanishReviewsMyMemoryEsJaJaEsDF = BackTranslation(translatorList, validReviewsDF, validPath)\n",
    "invalidSpanishReviewsMyMemoryEsJaJaEsDF = BackTranslation(translatorList, invalidReviewsDF, invalidPath)"
   ]
  },
  {
   "cell_type": "markdown",
   "id": "513691e0-fab9-4d6a-9ee5-0fb7716dc9ef",
   "metadata": {},
   "source": [
    "Castellano -> Francés -> Japonés -> Ruso -> Castellano"
   ]
  },
  {
   "cell_type": "code",
   "execution_count": 13,
   "id": "4a0f68de-f676-421f-ba70-d85af504a9aa",
   "metadata": {},
   "outputs": [],
   "source": [
    "validPath = '1. Back Translation\\\\2. MyMemory Translator\\\\ValidReviewsTranslationsEsFrFrJaJaRuRuEs.txt'\n",
    "invalidPath = '1. Back Translation\\\\2. MyMemory Translator\\\\InvalidReviewsTranslationsEsFrFrJaJaRuRuEs.txt'\n",
    "\n",
    "firstTranslator = MyMemoryTranslator(source = 'spanish', target = 'french')\n",
    "secondTranslator = MyMemoryTranslator(source='french', target='japanese')\n",
    "thirdTranslator = MyMemoryTranslator(source='japanese', target='russian')\n",
    "fourthTranslator = MyMemoryTranslator(source='russian', target='spanish')\n",
    "\n",
    "translatorList = [firstTranslator, secondTranslator, thirdTranslator, fourthTranslator]\n",
    "\n",
    "validSpanishReviewsMyMemoryEsFrFrJaJaRuRuEsDF = BackTranslation(translatorList, validReviewsDF, validPath)\n",
    "invalidSpanishReviewsMyMemoryEsFrFrJaJaRuRuEsDF = BackTranslation(translatorList, invalidReviewsDF, invalidPath)"
   ]
  },
  {
   "cell_type": "markdown",
   "id": "4bac7f30-7ad4-4660-8633-a0b4f2b725f2",
   "metadata": {},
   "source": [
    "## Análisis de la retrotraducción y selección de los datos:\n",
    "\n",
    "Dado que el código correspondiente a la traducción llevó largo rato y se dejo a la noche ejecutando, se vuelven a importar los datos a dataframes:"
   ]
  },
  {
   "cell_type": "markdown",
   "id": "35d80455-27fb-4758-90ca-a6b187e3649b",
   "metadata": {},
   "source": [
    "#### MyMemory genera errores en la traducción debido a problemas de conexión con el servidor. Consecuentemente, se procede a anilizar únicamente los datos generados por el traductor de Google"
   ]
  },
  {
   "cell_type": "code",
   "execution_count": 6,
   "id": "676fead3-89d2-41ca-9d2c-75df79bb16bc",
   "metadata": {},
   "outputs": [],
   "source": [
    "def importFromTxtToList(source):\n",
    "    with open(source, 'r', encoding=\"utf-8\") as file:\n",
    "        #Generate a list with all the reviews\n",
    "        targetList = [line.strip() for line in file]\n",
    "    return targetList"
   ]
  },
  {
   "cell_type": "markdown",
   "id": "3319d605-4149-4b84-b1ce-3f4124398124",
   "metadata": {},
   "source": [
    "Frases originales"
   ]
  },
  {
   "cell_type": "code",
   "execution_count": 7,
   "id": "f6bd3ee6-89fa-4cf7-b50f-d1e49d2364e7",
   "metadata": {},
   "outputs": [],
   "source": [
    "validPath = \"/home/ibon/Documentos/GitHub/TFG/1. Data/4. Labeled Reviews/2. Without Emojis/ValidReviews.txt\"\n",
    "invalidPath = \"/home/ibon/Documentos/GitHub/TFG/1. Data/4. Labeled Reviews/2. Without Emojis/InvalidReviews.txt\"\n",
    "\n",
    "validOriginal = importFromTxtToList(validPath)\n",
    "invalidOriginal = importFromTxtToList(invalidPath) "
   ]
  },
  {
   "cell_type": "markdown",
   "id": "738bf88b-1fc7-4cad-a2ff-9464486bf40d",
   "metadata": {},
   "source": [
    "Se importan las frases traducidas de: Castellano -> Inglés -> Castellano"
   ]
  },
  {
   "cell_type": "code",
   "execution_count": 8,
   "id": "fa962044-f7c9-44e0-b81e-a3aed6b90550",
   "metadata": {},
   "outputs": [],
   "source": [
    "validPath = '1. Back Translation/1. Google Translator/ValidReviewsTranslationsEsEnEnEs.txt'\n",
    "invalidPath = '1. Back Translation/1. Google Translator/InvalidReviewsTranslationsEsEnEnEs.txt'\n",
    "\n",
    "validEsEnEnEsTraductionList = importFromTxtToList(validPath)\n",
    "invalidEsEnEnEsTraductionList = importFromTxtToList(invalidPath) "
   ]
  },
  {
   "cell_type": "markdown",
   "id": "e8aba3e7-7b3e-4edd-b6fa-6614cdb5b1f0",
   "metadata": {},
   "source": [
    "Castellano -> Japonés -> Castellano"
   ]
  },
  {
   "cell_type": "code",
   "execution_count": 9,
   "id": "1b4a68b0-2a8a-4037-946e-e9571106c21a",
   "metadata": {},
   "outputs": [],
   "source": [
    "validPath = '1. Back Translation/1. Google Translator/ValidReviewsTranslationsEsJaJaEs.txt'\n",
    "invalidPath = '1. Back Translation/1. Google Translator/InvalidReviewsTranslationsEsJaJaEs.txt'\n",
    "\n",
    "validEsJaJaEsTraductionList = importFromTxtToList(validPath)\n",
    "invalidEsJaJaEsTraductionList = importFromTxtToList(invalidPath)"
   ]
  },
  {
   "cell_type": "markdown",
   "id": "e926d10c-9623-4b7d-bf42-6194e822d03b",
   "metadata": {},
   "source": [
    "Castellano -> Francés -> Japonés -> Ruso -> Castellano"
   ]
  },
  {
   "cell_type": "code",
   "execution_count": 10,
   "id": "6f757675-d52d-462c-8a24-7711a338fb2a",
   "metadata": {},
   "outputs": [],
   "source": [
    "validPath = '1. Back Translation/1. Google Translator/ValidReviewsTranslationsEsFrFrJaJaRuRuEs.txt'\n",
    "invalidPath = '1. Back Translation/1. Google Translator/InvalidReviewsTranslationsEsFrFrJaJaRuRuEs.txt'\n",
    "\n",
    "validEsFrFrJaJaRuRuEsList = importFromTxtToList(validPath)\n",
    "invalidEsFrFrJaJaRuRuEsList = importFromTxtToList(invalidPath)"
   ]
  },
  {
   "cell_type": "markdown",
   "id": "e1f49a67-e058-4a6a-b5d0-9c88c47f3052",
   "metadata": {},
   "source": [
    "Para cada frase del conjunto de datos original (las frases con las reseñas válidas e inválidas), se va a calcular la similitud semántica (usando a un modelo basado en SBERT, conocido como MiniLM, que es más ligero y rápido consiguiendo resultados bastante certeros) y léxica con sus tres correspondientes frases generadas mediante el métodod de retrotraducción. Se van a seleccionar las frases que tengan mayor similitud semántica y menor similitud léxica y se van a guardar en un fichero para su posterior uso.\n",
    "\n",
    "Se van a generar dos ficheros: un csv con dos elementos por fila (la frase original y la retrotraducción escogida) y el otro con solo las retrotraducciones seleccionadas."
   ]
  },
  {
   "cell_type": "code",
   "execution_count": 12,
   "id": "28a0918b-a1c2-4f87-8628-dc0db6ffe124",
   "metadata": {},
   "outputs": [],
   "source": [
    "from sentence_transformers import SentenceTransformer\n",
    "\n",
    "#originalDataList: list of texts representing the original dataset\n",
    "#allAugmentedDataList: list of list of texts representing the aumented data \n",
    "#(allAugmentedDataList = [augmentedDataList1, ... ,augmentedDataListN], where augmentedDataList = [augmentedData1, ..., augmentedDataM])\n",
    "#pathWithOriginal: path of the csv with two columns (the original text and the best augmented text)\n",
    "#pathAugmentedData: path of the file with only the augmented data (without the original text)\n",
    "def processAugmentation(originalDataList, allAugmentedDataList, pathWithOriginal, pathAugmentedData):\n",
    "    #Select the model for the semantic similarity\n",
    "    model = SentenceTransformer('all-MiniLM-L6-v2')\n",
    "\n",
    "    #Open the files in which the augmented data will be strored\n",
    "    withOriginalFile = open(pathWithOriginal, \"w\", encoding=\"utf-8\")\n",
    "    augmentedDataFile = open(pathAugmentedData, \"w\", encoding=\"utf-8\")\n",
    "\n",
    "    #Write the titles of the csv\n",
    "    withOriginalFile.write(\"OriginalText,AugmentedText,SemanticSimilarity,LexicalSimilarity\\n\")\n",
    "    \n",
    "    resul = []\n",
    "    #Analize every phrase in the original data\n",
    "    for i, originalText in enumerate(originalDataList):\n",
    "        allAugmentedDataInfoDict = {}\n",
    "        bestIdx = 1\n",
    "        \n",
    "        #Analize every traduction\n",
    "        for j, augmentedDataList in enumerate(allAugmentedDataList):\n",
    "            #Compute the similarities of the corresponding traduction\n",
    "            semanticSimilarity = getSemanticSimilarity(originalText, augmentedDataList[i], model)\n",
    "            lexicalSimilarity = getLexicalSimilarity(originalText, augmentedDataList[i])\n",
    "\n",
    "            #Save the traduction and the similarities in a dictionary\n",
    "            allAugmentedDataInfoDict.update({\n",
    "                f\"augmented{j + 1}\": augmentedDataList[i],\n",
    "                f\"semanticSimilarity{j + 1}\": semanticSimilarity,\n",
    "                f\"lexicalSimilarity{j + 1}\": lexicalSimilarity\n",
    "            })\n",
    "\n",
    "            #Get the index of the traduction with greater semantic similarity and less lexical similarity\n",
    "            bestIdx = max(bestIdx, j + 1,\n",
    "                key = lambda k: (allAugmentedDataInfoDict[f\"semanticSimilarity{k}\"], -allAugmentedDataInfoDict[f\"lexicalSimilarity{k}\"])\n",
    "            )\n",
    "\n",
    "        #Select the information of the best augmentation\n",
    "        info = {\n",
    "            \"originalText\": originalText,\n",
    "            \"bestAugmentation\": allAugmentedDataInfoDict[f\"augmented{bestIdx}\"],\n",
    "            \"bestAugmentedDataSemanticSimilarity\": allAugmentedDataInfoDict[f\"semanticSimilarity{bestIdx}\"],\n",
    "            \"bestAugmentedDataLexicalSimiliratity\": allAugmentedDataInfoDict[f\"lexicalSimilarity{bestIdx}\"]\n",
    "        }\n",
    "        info.update(allAugmentedDataInfoDict)\n",
    "\n",
    "        #Save the information\n",
    "        resul.append(info)\n",
    "\n",
    "        #Write the information in the files\n",
    "        withOriginalFile.write(originalText + \",\" + allAugmentedDataInfoDict[f\"augmented{bestIdx}\"] + \",\" + str(allAugmentedDataInfoDict[f\"semanticSimilarity{bestIdx}\"]) + \",\" + str(allAugmentedDataInfoDict[f\"lexicalSimilarity{bestIdx}\"]) + \"\\n\")\n",
    "        #If the text is not empty write it on  the file\n",
    "        if allAugmentedDataInfoDict[f\"augmented{bestIdx}\"]  != '\"\"':\n",
    "            augmentedDataFile.write(allAugmentedDataInfoDict[f\"augmented{bestIdx}\"] + \"\\n\")\n",
    "\n",
    "    #Close the files\n",
    "    withOriginalFile.close()\n",
    "    augmentedDataFile.close()\n",
    "    \n",
    "    return resul"
   ]
  },
  {
   "cell_type": "code",
   "execution_count": 13,
   "id": "b5dc006b-52fc-45e1-9c46-af3329c88d85",
   "metadata": {},
   "outputs": [],
   "source": [
    "validWithOriginalPath = '1. Back Translation/3. Augmented Data/ValidBackTranslationWithOriginal.csv'\n",
    "validAugmentedPath = '1. Back Translation/3. Augmented Data/ValidBackTranslationData.txt'\n",
    "invalidWithOriginalPath = '1. Back Translation/3. Augmented Data/InvalidBackTranslationWithOriginal.csv'\n",
    "invalidAugmentedPath = '1. Back Translation/3. Augmented Data/InvalidBackTranslationData.txt'\n",
    "\n",
    "infoValid = processAugmentation(validOriginal, [validEsEnEnEsTraductionList, validEsJaJaEsTraductionList, validEsFrFrJaJaRuRuEsList], validWithOriginalPath, validAugmentedPath)\n",
    "infoValidDF = pd.DataFrame(infoValid)\n",
    "infoInvalid = processAugmentation(invalidOriginal, [invalidEsEnEnEsTraductionList, invalidEsJaJaEsTraductionList, invalidEsFrFrJaJaRuRuEsList], invalidWithOriginalPath, invalidAugmentedPath)\n",
    "infoInvalidDF = pd.DataFrame(infoInvalid)"
   ]
  },
  {
   "cell_type": "code",
   "execution_count": 14,
   "id": "72d7a1d5-4171-4400-adf0-7f0e407f8ac7",
   "metadata": {},
   "outputs": [
    {
     "data": {
      "text/html": [
       "<div>\n",
       "<style scoped>\n",
       "    .dataframe tbody tr th:only-of-type {\n",
       "        vertical-align: middle;\n",
       "    }\n",
       "\n",
       "    .dataframe tbody tr th {\n",
       "        vertical-align: top;\n",
       "    }\n",
       "\n",
       "    .dataframe thead th {\n",
       "        text-align: right;\n",
       "    }\n",
       "</style>\n",
       "<table border=\"1\" class=\"dataframe\">\n",
       "  <thead>\n",
       "    <tr style=\"text-align: right;\">\n",
       "      <th></th>\n",
       "      <th>originalText</th>\n",
       "      <th>bestAugmentation</th>\n",
       "      <th>bestAugmentedDataSemanticSimilarity</th>\n",
       "      <th>bestAugmentedDataLexicalSimiliratity</th>\n",
       "      <th>augmented1</th>\n",
       "      <th>semanticSimilarity1</th>\n",
       "      <th>lexicalSimilarity1</th>\n",
       "      <th>augmented2</th>\n",
       "      <th>semanticSimilarity2</th>\n",
       "      <th>lexicalSimilarity2</th>\n",
       "      <th>augmented3</th>\n",
       "      <th>semanticSimilarity3</th>\n",
       "      <th>lexicalSimilarity3</th>\n",
       "    </tr>\n",
       "  </thead>\n",
       "  <tbody>\n",
       "    <tr>\n",
       "      <th>0</th>\n",
       "      <td>\"Tiene fácil acceso para las personas con movi...</td>\n",
       "      <td>“Tiene fácil acceso para personas con movilida...</td>\n",
       "      <td>0.978443</td>\n",
       "      <td>0.760000</td>\n",
       "      <td>“Tiene fácil acceso para personas con movilida...</td>\n",
       "      <td>0.978443</td>\n",
       "      <td>0.760000</td>\n",
       "      <td>“Es de fácil acceso para personas con movilida...</td>\n",
       "      <td>0.925599</td>\n",
       "      <td>0.566667</td>\n",
       "      <td>“Es de fácil acceso para personas con discapac...</td>\n",
       "      <td>0.854630</td>\n",
       "      <td>0.468750</td>\n",
       "    </tr>\n",
       "    <tr>\n",
       "      <th>1</th>\n",
       "      <td>\"Espero que hayan mejorais\"</td>\n",
       "      <td>\"Espero que hayas mejorado\"</td>\n",
       "      <td>0.916635</td>\n",
       "      <td>0.333333</td>\n",
       "      <td>\"Espero que hayas mejorado\"</td>\n",
       "      <td>0.916635</td>\n",
       "      <td>0.333333</td>\n",
       "      <td>\"Espero que las cosas estén mejorando\".</td>\n",
       "      <td>0.785516</td>\n",
       "      <td>0.250000</td>\n",
       "      <td>\"Espero que la situación esté mejorando\".</td>\n",
       "      <td>0.736162</td>\n",
       "      <td>0.250000</td>\n",
       "    </tr>\n",
       "    <tr>\n",
       "      <th>2</th>\n",
       "      <td>\"La estación es antigua, aparte de tener una s...</td>\n",
       "      <td>“La estación es antigua e inaccesible para per...</td>\n",
       "      <td>0.932935</td>\n",
       "      <td>0.500000</td>\n",
       "      <td>“La estación es antigua, además de tener una ú...</td>\n",
       "      <td>0.883212</td>\n",
       "      <td>0.631579</td>\n",
       "      <td>“La estación es antigua e inaccesible para per...</td>\n",
       "      <td>0.932935</td>\n",
       "      <td>0.500000</td>\n",
       "      <td>“Además de que esta estación es antigua y tien...</td>\n",
       "      <td>0.932238</td>\n",
       "      <td>0.477273</td>\n",
       "    </tr>\n",
       "    <tr>\n",
       "      <th>3</th>\n",
       "      <td>\"Bien\"</td>\n",
       "      <td>\"Bien\"</td>\n",
       "      <td>1.000000</td>\n",
       "      <td>1.000000</td>\n",
       "      <td>\"Bien\"</td>\n",
       "      <td>1.000000</td>\n",
       "      <td>1.000000</td>\n",
       "      <td>\"bien\"</td>\n",
       "      <td>1.000000</td>\n",
       "      <td>1.000000</td>\n",
       "      <td>\"bien\"</td>\n",
       "      <td>1.000000</td>\n",
       "      <td>1.000000</td>\n",
       "    </tr>\n",
       "    <tr>\n",
       "      <th>4</th>\n",
       "      <td>\"Bonito comodo\"</td>\n",
       "      <td>\"Bonito y cómodo\"</td>\n",
       "      <td>0.955331</td>\n",
       "      <td>0.666667</td>\n",
       "      <td>\"Bonito y cómodo\"</td>\n",
       "      <td>0.955331</td>\n",
       "      <td>0.666667</td>\n",
       "      <td>\"Maravilloso confort\"</td>\n",
       "      <td>0.415461</td>\n",
       "      <td>0.000000</td>\n",
       "      <td>“Muy conveniente”</td>\n",
       "      <td>0.229466</td>\n",
       "      <td>0.000000</td>\n",
       "    </tr>\n",
       "  </tbody>\n",
       "</table>\n",
       "</div>"
      ],
      "text/plain": [
       "                                        originalText  \\\n",
       "0  \"Tiene fácil acceso para las personas con movi...   \n",
       "1                        \"Espero que hayan mejorais\"   \n",
       "2  \"La estación es antigua, aparte de tener una s...   \n",
       "3                                             \"Bien\"   \n",
       "4                                    \"Bonito comodo\"   \n",
       "\n",
       "                                    bestAugmentation  \\\n",
       "0  “Tiene fácil acceso para personas con movilida...   \n",
       "1                        \"Espero que hayas mejorado\"   \n",
       "2  “La estación es antigua e inaccesible para per...   \n",
       "3                                             \"Bien\"   \n",
       "4                                  \"Bonito y cómodo\"   \n",
       "\n",
       "   bestAugmentedDataSemanticSimilarity  bestAugmentedDataLexicalSimiliratity  \\\n",
       "0                             0.978443                              0.760000   \n",
       "1                             0.916635                              0.333333   \n",
       "2                             0.932935                              0.500000   \n",
       "3                             1.000000                              1.000000   \n",
       "4                             0.955331                              0.666667   \n",
       "\n",
       "                                          augmented1  semanticSimilarity1  \\\n",
       "0  “Tiene fácil acceso para personas con movilida...             0.978443   \n",
       "1                        \"Espero que hayas mejorado\"             0.916635   \n",
       "2  “La estación es antigua, además de tener una ú...             0.883212   \n",
       "3                                             \"Bien\"             1.000000   \n",
       "4                                  \"Bonito y cómodo\"             0.955331   \n",
       "\n",
       "   lexicalSimilarity1                                         augmented2  \\\n",
       "0            0.760000  “Es de fácil acceso para personas con movilida...   \n",
       "1            0.333333            \"Espero que las cosas estén mejorando\".   \n",
       "2            0.631579  “La estación es antigua e inaccesible para per...   \n",
       "3            1.000000                                             \"bien\"   \n",
       "4            0.666667                              \"Maravilloso confort\"   \n",
       "\n",
       "   semanticSimilarity2  lexicalSimilarity2  \\\n",
       "0             0.925599            0.566667   \n",
       "1             0.785516            0.250000   \n",
       "2             0.932935            0.500000   \n",
       "3             1.000000            1.000000   \n",
       "4             0.415461            0.000000   \n",
       "\n",
       "                                          augmented3  semanticSimilarity3  \\\n",
       "0  “Es de fácil acceso para personas con discapac...             0.854630   \n",
       "1          \"Espero que la situación esté mejorando\".             0.736162   \n",
       "2  “Además de que esta estación es antigua y tien...             0.932238   \n",
       "3                                             \"bien\"             1.000000   \n",
       "4                                  “Muy conveniente”             0.229466   \n",
       "\n",
       "   lexicalSimilarity3  \n",
       "0            0.468750  \n",
       "1            0.250000  \n",
       "2            0.477273  \n",
       "3            1.000000  \n",
       "4            0.000000  "
      ]
     },
     "execution_count": 14,
     "metadata": {},
     "output_type": "execute_result"
    }
   ],
   "source": [
    "infoValidDF.head()"
   ]
  },
  {
   "cell_type": "code",
   "execution_count": 15,
   "id": "670d35a6-0253-4468-b6c4-d98e85abf51b",
   "metadata": {},
   "outputs": [
    {
     "data": {
      "text/html": [
       "<div>\n",
       "<style scoped>\n",
       "    .dataframe tbody tr th:only-of-type {\n",
       "        vertical-align: middle;\n",
       "    }\n",
       "\n",
       "    .dataframe tbody tr th {\n",
       "        vertical-align: top;\n",
       "    }\n",
       "\n",
       "    .dataframe thead th {\n",
       "        text-align: right;\n",
       "    }\n",
       "</style>\n",
       "<table border=\"1\" class=\"dataframe\">\n",
       "  <thead>\n",
       "    <tr style=\"text-align: right;\">\n",
       "      <th></th>\n",
       "      <th>originalText</th>\n",
       "      <th>bestAugmentation</th>\n",
       "      <th>bestAugmentedDataSemanticSimilarity</th>\n",
       "      <th>bestAugmentedDataLexicalSimiliratity</th>\n",
       "      <th>augmented1</th>\n",
       "      <th>semanticSimilarity1</th>\n",
       "      <th>lexicalSimilarity1</th>\n",
       "      <th>augmented2</th>\n",
       "      <th>semanticSimilarity2</th>\n",
       "      <th>lexicalSimilarity2</th>\n",
       "      <th>augmented3</th>\n",
       "      <th>semanticSimilarity3</th>\n",
       "      <th>lexicalSimilarity3</th>\n",
       "    </tr>\n",
       "  </thead>\n",
       "  <tbody>\n",
       "    <tr>\n",
       "      <th>0</th>\n",
       "      <td>\"He vivido 35 años en el barrio y reconozco qu...</td>\n",
       "      <td>“Llevo 35 años viviendo en el barrio y reconoz...</td>\n",
       "      <td>0.949282</td>\n",
       "      <td>0.631579</td>\n",
       "      <td>“Llevo 35 años viviendo en el barrio y reconoz...</td>\n",
       "      <td>0.949282</td>\n",
       "      <td>0.631579</td>\n",
       "      <td>\"He vivido en esta zona durante 35 años y reco...</td>\n",
       "      <td>0.818717</td>\n",
       "      <td>0.500000</td>\n",
       "      <td>“Vivo en esta zona desde hace 35 años y recono...</td>\n",
       "      <td>0.695063</td>\n",
       "      <td>0.418605</td>\n",
       "    </tr>\n",
       "    <tr>\n",
       "      <th>1</th>\n",
       "      <td>\"localización con muchos bares interesantes\"</td>\n",
       "      <td>\"Ubicación con muchos bares interesantes\"</td>\n",
       "      <td>0.793883</td>\n",
       "      <td>0.666667</td>\n",
       "      <td>\"Ubicación con muchos bares interesantes\"</td>\n",
       "      <td>0.793883</td>\n",
       "      <td>0.666667</td>\n",
       "      <td>\"Ubicación con muchos bares interesantes\"</td>\n",
       "      <td>0.793883</td>\n",
       "      <td>0.666667</td>\n",
       "      <td>“Un lugar con muchos bares interesantes”</td>\n",
       "      <td>0.685196</td>\n",
       "      <td>0.571429</td>\n",
       "    </tr>\n",
       "    <tr>\n",
       "      <th>2</th>\n",
       "      <td>\"…\"</td>\n",
       "      <td>\"\"</td>\n",
       "      <td>0.905728</td>\n",
       "      <td>0.000000</td>\n",
       "      <td>\"\"</td>\n",
       "      <td>0.905728</td>\n",
       "      <td>0.000000</td>\n",
       "      <td>\"...\"</td>\n",
       "      <td>0.838349</td>\n",
       "      <td>0.000000</td>\n",
       "      <td>\"\"</td>\n",
       "      <td>0.905728</td>\n",
       "      <td>0.000000</td>\n",
       "    </tr>\n",
       "    <tr>\n",
       "      <th>3</th>\n",
       "      <td>\"Muy rica comida..\"</td>\n",
       "      <td>“Comida muy sabrosa.”</td>\n",
       "      <td>0.706546</td>\n",
       "      <td>0.500000</td>\n",
       "      <td>\"Comida muy deliciosa..\"</td>\n",
       "      <td>0.677902</td>\n",
       "      <td>0.500000</td>\n",
       "      <td>\"Es una comida muy deliciosa\".</td>\n",
       "      <td>0.644577</td>\n",
       "      <td>0.333333</td>\n",
       "      <td>“Comida muy sabrosa.”</td>\n",
       "      <td>0.706546</td>\n",
       "      <td>0.500000</td>\n",
       "    </tr>\n",
       "    <tr>\n",
       "      <th>4</th>\n",
       "      <td>\"Estación del.metro\"</td>\n",
       "      <td>\"Estación de metro\"</td>\n",
       "      <td>0.963894</td>\n",
       "      <td>0.250000</td>\n",
       "      <td>\"Estación de metro\"</td>\n",
       "      <td>0.963894</td>\n",
       "      <td>0.250000</td>\n",
       "      <td>\"estación de metro\"</td>\n",
       "      <td>0.963894</td>\n",
       "      <td>0.250000</td>\n",
       "      <td>\"estación de metro\"</td>\n",
       "      <td>0.963894</td>\n",
       "      <td>0.250000</td>\n",
       "    </tr>\n",
       "  </tbody>\n",
       "</table>\n",
       "</div>"
      ],
      "text/plain": [
       "                                        originalText  \\\n",
       "0  \"He vivido 35 años en el barrio y reconozco qu...   \n",
       "1       \"localización con muchos bares interesantes\"   \n",
       "2                                                \"…\"   \n",
       "3                                \"Muy rica comida..\"   \n",
       "4                               \"Estación del.metro\"   \n",
       "\n",
       "                                    bestAugmentation  \\\n",
       "0  “Llevo 35 años viviendo en el barrio y reconoz...   \n",
       "1          \"Ubicación con muchos bares interesantes\"   \n",
       "2                                                 \"\"   \n",
       "3                              “Comida muy sabrosa.”   \n",
       "4                                \"Estación de metro\"   \n",
       "\n",
       "   bestAugmentedDataSemanticSimilarity  bestAugmentedDataLexicalSimiliratity  \\\n",
       "0                             0.949282                              0.631579   \n",
       "1                             0.793883                              0.666667   \n",
       "2                             0.905728                              0.000000   \n",
       "3                             0.706546                              0.500000   \n",
       "4                             0.963894                              0.250000   \n",
       "\n",
       "                                          augmented1  semanticSimilarity1  \\\n",
       "0  “Llevo 35 años viviendo en el barrio y reconoz...             0.949282   \n",
       "1          \"Ubicación con muchos bares interesantes\"             0.793883   \n",
       "2                                                 \"\"             0.905728   \n",
       "3                           \"Comida muy deliciosa..\"             0.677902   \n",
       "4                                \"Estación de metro\"             0.963894   \n",
       "\n",
       "   lexicalSimilarity1                                         augmented2  \\\n",
       "0            0.631579  \"He vivido en esta zona durante 35 años y reco...   \n",
       "1            0.666667          \"Ubicación con muchos bares interesantes\"   \n",
       "2            0.000000                                              \"...\"   \n",
       "3            0.500000                     \"Es una comida muy deliciosa\".   \n",
       "4            0.250000                                \"estación de metro\"   \n",
       "\n",
       "   semanticSimilarity2  lexicalSimilarity2  \\\n",
       "0             0.818717            0.500000   \n",
       "1             0.793883            0.666667   \n",
       "2             0.838349            0.000000   \n",
       "3             0.644577            0.333333   \n",
       "4             0.963894            0.250000   \n",
       "\n",
       "                                          augmented3  semanticSimilarity3  \\\n",
       "0  “Vivo en esta zona desde hace 35 años y recono...             0.695063   \n",
       "1           “Un lugar con muchos bares interesantes”             0.685196   \n",
       "2                                                 \"\"             0.905728   \n",
       "3                              “Comida muy sabrosa.”             0.706546   \n",
       "4                                \"estación de metro\"             0.963894   \n",
       "\n",
       "   lexicalSimilarity3  \n",
       "0            0.418605  \n",
       "1            0.571429  \n",
       "2            0.000000  \n",
       "3            0.500000  \n",
       "4            0.250000  "
      ]
     },
     "execution_count": 15,
     "metadata": {},
     "output_type": "execute_result"
    }
   ],
   "source": [
    "infoInvalidDF.head()"
   ]
  },
  {
   "cell_type": "code",
   "execution_count": null,
   "id": "12f586de-05af-4b5b-be17-3591f49118e7",
   "metadata": {},
   "outputs": [],
   "source": []
  }
 ],
 "metadata": {
  "kernelspec": {
   "display_name": "Python 3 (ipykernel)",
   "language": "python",
   "name": "python3"
  },
  "language_info": {
   "codemirror_mode": {
    "name": "ipython",
    "version": 3
   },
   "file_extension": ".py",
   "mimetype": "text/x-python",
   "name": "python",
   "nbconvert_exporter": "python",
   "pygments_lexer": "ipython3",
   "version": "3.9.19"
  }
 },
 "nbformat": 4,
 "nbformat_minor": 5
}
