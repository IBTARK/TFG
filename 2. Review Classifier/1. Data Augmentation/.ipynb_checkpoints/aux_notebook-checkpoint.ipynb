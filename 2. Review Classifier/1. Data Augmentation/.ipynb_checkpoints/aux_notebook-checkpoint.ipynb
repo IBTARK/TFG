{
 "cells": [
  {
   "cell_type": "markdown",
   "id": "794d982e-4b80-4fb2-a8c3-ef1c5275232a",
   "metadata": {},
   "source": [
    "# Ampliación de datos\n",
    "\n",
    "En este notebook se va a aplicar la técnica de ampliación de datos a un conjunto de reseñas de Google Maps separadas en dos ficheros: uno con las reseñas que se van a considerar válidas y el otro con las inválidas. Cada línea es una reseña nueva.\n"
   ]
  },
  {
   "cell_type": "markdown",
   "id": "fdb03dad-6fb0-4b4e-8fd7-08e258d63202",
   "metadata": {},
   "source": [
    "### Imports"
   ]
  },
  {
   "cell_type": "code",
   "execution_count": null,
   "id": "7bd86c94-1406-46b9-b519-be661883cd08",
   "metadata": {},
   "outputs": [],
   "source": [
    "import pandas as pd\n",
    "import copy\n",
    "import time"
   ]
  },
  {
   "cell_type": "markdown",
   "id": "d5876f10-3312-4a0b-b563-deea4a395aeb",
   "metadata": {},
   "source": [
    "### Direcorio de datos"
   ]
  },
  {
   "cell_type": "code",
   "execution_count": null,
   "id": "0739d916-b1c3-4bf9-9803-16ca063e1a88",
   "metadata": {},
   "outputs": [],
   "source": [
    "validReviewsSource = \"C:\\Users\\franp\\OneDrive - Universidad Complutense de Madrid (UCM)\\Escritorio\\tfg\\TFG\\1. Data\\4. Labeled Reviews\\2. Without Emojis\\ValidReviews.txt\"\n",
    "invalidReviewsSource = \"C:\\Users\\franp\\OneDrive - Universidad Complutense de Madrid (UCM)\\Escritorio\\tfg\\TFG\\1. Data\\4. Labeled Reviews\\2. Without Emojis\\InvalidReviews.txt\""
   ]
  }
 ],
 "metadata": {
  "kernelspec": {
   "display_name": "Python 3 (ipykernel)",
   "language": "python",
   "name": "python3"
  },
  "language_info": {
   "codemirror_mode": {
    "name": "ipython",
    "version": 3
   },
   "file_extension": ".py",
   "mimetype": "text/x-python",
   "name": "python",
   "nbconvert_exporter": "python",
   "pygments_lexer": "ipython3",
   "version": "3.12.5"
  }
 },
 "nbformat": 4,
 "nbformat_minor": 5
}
