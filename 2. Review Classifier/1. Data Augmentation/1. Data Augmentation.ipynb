{
 "cells": [
  {
   "cell_type": "markdown",
   "id": "e7c2d0ec-b1c2-4e74-8c57-562b03aff8f1",
   "metadata": {},
   "source": [
    "# Ampliación de datos\n",
    "\n",
    "En este notebook se va a aplicar la técnica de ampliación de datos a un conjunto de reseñas de Google Maps separadas en dos ficheros: uno con las reseñas que se van a considerar válidas y el otro con las inválidas. Cada línea es una reseña nueva."
   ]
  },
  {
   "cell_type": "markdown",
   "id": "7e0485a5-5543-499d-a2a6-ce3ab7333f3c",
   "metadata": {},
   "source": [
    "### Imports"
   ]
  },
  {
   "cell_type": "code",
   "execution_count": 1,
   "id": "f54d4a66-799a-460d-b32e-b71b3755cbf2",
   "metadata": {},
   "outputs": [],
   "source": [
    "import pandas as pd\n",
    "from deep_translator import (GoogleTranslator, MyMemoryTranslator)\n",
    "import copy\n",
    "import time"
   ]
  },
  {
   "cell_type": "markdown",
   "id": "cf20fd15-c646-4f3d-857f-3b2d8822f88e",
   "metadata": {},
   "source": [
    "### Direcorio de datos"
   ]
  },
  {
   "cell_type": "code",
   "execution_count": 2,
   "id": "c311128e-92e1-4101-b796-8b8165fe12ef",
   "metadata": {},
   "outputs": [],
   "source": [
    "validReviewsSource = \"C:\\\\Users\\\\ibonm\\\\Documents\\\\GitHub\\\\TFG\\\\1. Data\\\\4. Labeled Reviews\\\\2. Without Emojis\\\\ValidReviews.txt\"\n",
    "invalidReviewsSource = \"C:\\\\Users\\\\ibonm\\\\Documents\\\\GitHub\\\\TFG\\\\1. Data\\\\4. Labeled Reviews\\\\2. Without Emojis\\\\InvalidReviews.txt\""
   ]
  },
  {
   "cell_type": "markdown",
   "id": "7d6ac5b7-6508-4ea6-bca1-ffe46883ecc8",
   "metadata": {},
   "source": [
    "### Pandas\n",
    "Se van a pasar los datos a dataframes: uno con las valoraciones validas y otro con las negativas. Cada fila del dataframe será una reseña"
   ]
  },
  {
   "cell_type": "code",
   "execution_count": 2,
   "id": "66162710-f9ad-43e4-a0bf-1f5a92a065a9",
   "metadata": {},
   "outputs": [],
   "source": [
    "def importFromTxtToDF(source):\n",
    "    with open(source, 'r', encoding=\"utf-8\") as file:\n",
    "        #Generate a list with all the reviews\n",
    "        targetList = [line.strip() for line in file]\n",
    "\n",
    "    targetDF = pd.DataFrame(targetList, columns=['Text'])\n",
    "    return targetDF"
   ]
  },
  {
   "cell_type": "code",
   "execution_count": 4,
   "id": "0b5a9830-a956-4dd6-9b78-26f4866a408e",
   "metadata": {},
   "outputs": [],
   "source": [
    "#Read the file with the valid reviews\n",
    "validReviewsDF = importFromTxtToDF(validReviewsSource)\n",
    "#Read the file with the invalid reviews\n",
    "invalidReviewsDF = importFromTxtToDF(invalidReviewsSource)"
   ]
  },
  {
   "cell_type": "markdown",
   "id": "30ca07cf-8f96-40c5-886e-9a26f7524bfe",
   "metadata": {},
   "source": [
    "Se muestran las primeras reseñas válidas"
   ]
  },
  {
   "cell_type": "code",
   "execution_count": 5,
   "id": "9f1cdd36-9728-4962-a4bd-b6bf4731e01f",
   "metadata": {},
   "outputs": [
    {
     "data": {
      "text/html": [
       "<div>\n",
       "<style scoped>\n",
       "    .dataframe tbody tr th:only-of-type {\n",
       "        vertical-align: middle;\n",
       "    }\n",
       "\n",
       "    .dataframe tbody tr th {\n",
       "        vertical-align: top;\n",
       "    }\n",
       "\n",
       "    .dataframe thead th {\n",
       "        text-align: right;\n",
       "    }\n",
       "</style>\n",
       "<table border=\"1\" class=\"dataframe\">\n",
       "  <thead>\n",
       "    <tr style=\"text-align: right;\">\n",
       "      <th></th>\n",
       "      <th>Text</th>\n",
       "    </tr>\n",
       "  </thead>\n",
       "  <tbody>\n",
       "    <tr>\n",
       "      <th>0</th>\n",
       "      <td>\"Tiene fácil acceso para las personas con movi...</td>\n",
       "    </tr>\n",
       "    <tr>\n",
       "      <th>1</th>\n",
       "      <td>\"Espero que hayan mejorais\"</td>\n",
       "    </tr>\n",
       "    <tr>\n",
       "      <th>2</th>\n",
       "      <td>\"La estación es antigua, aparte de tener una s...</td>\n",
       "    </tr>\n",
       "    <tr>\n",
       "      <th>3</th>\n",
       "      <td>\"Bien\"</td>\n",
       "    </tr>\n",
       "    <tr>\n",
       "      <th>4</th>\n",
       "      <td>\"Bonito comodo\"</td>\n",
       "    </tr>\n",
       "  </tbody>\n",
       "</table>\n",
       "</div>"
      ],
      "text/plain": [
       "                                                Text\n",
       "0  \"Tiene fácil acceso para las personas con movi...\n",
       "1                        \"Espero que hayan mejorais\"\n",
       "2  \"La estación es antigua, aparte de tener una s...\n",
       "3                                             \"Bien\"\n",
       "4                                    \"Bonito comodo\""
      ]
     },
     "execution_count": 5,
     "metadata": {},
     "output_type": "execute_result"
    }
   ],
   "source": [
    "validReviewsDF.head()"
   ]
  },
  {
   "cell_type": "markdown",
   "id": "9c57d6e4-e380-4a66-a893-b032b7257254",
   "metadata": {},
   "source": [
    "Se muestran las primeras reseñas inválidas"
   ]
  },
  {
   "cell_type": "code",
   "execution_count": 6,
   "id": "6074bca2-03f7-4503-8dcf-01069a61d953",
   "metadata": {},
   "outputs": [
    {
     "data": {
      "text/html": [
       "<div>\n",
       "<style scoped>\n",
       "    .dataframe tbody tr th:only-of-type {\n",
       "        vertical-align: middle;\n",
       "    }\n",
       "\n",
       "    .dataframe tbody tr th {\n",
       "        vertical-align: top;\n",
       "    }\n",
       "\n",
       "    .dataframe thead th {\n",
       "        text-align: right;\n",
       "    }\n",
       "</style>\n",
       "<table border=\"1\" class=\"dataframe\">\n",
       "  <thead>\n",
       "    <tr style=\"text-align: right;\">\n",
       "      <th></th>\n",
       "      <th>Text</th>\n",
       "    </tr>\n",
       "  </thead>\n",
       "  <tbody>\n",
       "    <tr>\n",
       "      <th>0</th>\n",
       "      <td>\"He vivido 35 años en el barrio y reconozco qu...</td>\n",
       "    </tr>\n",
       "    <tr>\n",
       "      <th>1</th>\n",
       "      <td>\"localización con muchos bares interesantes\"</td>\n",
       "    </tr>\n",
       "    <tr>\n",
       "      <th>2</th>\n",
       "      <td>\"…\"</td>\n",
       "    </tr>\n",
       "    <tr>\n",
       "      <th>3</th>\n",
       "      <td>\"Muy rica comida..\"</td>\n",
       "    </tr>\n",
       "    <tr>\n",
       "      <th>4</th>\n",
       "      <td>\"Estación del.metro\"</td>\n",
       "    </tr>\n",
       "  </tbody>\n",
       "</table>\n",
       "</div>"
      ],
      "text/plain": [
       "                                                Text\n",
       "0  \"He vivido 35 años en el barrio y reconozco qu...\n",
       "1       \"localización con muchos bares interesantes\"\n",
       "2                                                \"…\"\n",
       "3                                \"Muy rica comida..\"\n",
       "4                               \"Estación del.metro\""
      ]
     },
     "execution_count": 6,
     "metadata": {},
     "output_type": "execute_result"
    }
   ],
   "source": [
    "invalidReviewsDF.head()"
   ]
  },
  {
   "cell_type": "markdown",
   "id": "72b81dbd-a09d-4a75-9fd0-ae00c1d45366",
   "metadata": {},
   "source": [
    "## Retrotraducción\n",
    "\n",
    "El primer método de ampliación de datos que se va a usar va a ser la retrotraducción. Consiste en traducir el texto a un idioma distinto y luego volverlo a traducir al idioma original. \n",
    "\n",
    "Este proceso puede genera texto con el mismo significado que el original pero distintas palabras."
   ]
  },
  {
   "cell_type": "code",
   "execution_count": 7,
   "id": "6d137f41-d490-4723-b33d-252f91ea8040",
   "metadata": {},
   "outputs": [],
   "source": [
    "def BackTranslation(translatorsList, reviewsDF, targetPath):\n",
    "    #Generate a data list to store the text that has to be translated\n",
    "    notTranslatedList = reviewsDF['Text'].tolist()\n",
    "\n",
    "    #Translate the text as many times as needed\n",
    "    for translator in translatorsList:\n",
    "        #Generate a data frame to store the text that has been translated\n",
    "        translatedList = []\n",
    "        for elem in notTranslatedList:\n",
    "            #Translate all the reviews\n",
    "            try:\n",
    "                translation = translator.translate(elem)\n",
    "            except Exception as e: #If the translation fails \"\" is written\n",
    "                translation = '\"\"'\n",
    "            #If an error ocurred translate it to a \"\"\n",
    "            if translation == None:\n",
    "                translation = '\"\"'\n",
    "                \n",
    "            #Save the translations in the corresponding list \n",
    "            translatedList.append(translation)\n",
    "\n",
    "            #Wait 0.2 seconds not to collapse the server\n",
    "            time.sleep(0.2)\n",
    "\n",
    "        #Prepare to translate again if needed\n",
    "        notTranslatedList = copy.deepcopy(translatedList) \n",
    "       \n",
    "    #Open the file in which the translations are strored\n",
    "    translationFile = open(targetPath, 'w', encoding=\"utf-8\")\n",
    "    #write all the translations\n",
    "    for elem in translatedList:\n",
    "        translationFile.write(elem + \"\\n\")\n",
    "    #Close the file\n",
    "    translationFile.close()\n",
    "    \n",
    "    return pd.DataFrame(translatedList, columns=['Text'])"
   ]
  },
  {
   "cell_type": "markdown",
   "id": "cb3dd031-96ec-4ac7-9c93-c7ea4cff8fce",
   "metadata": {},
   "source": [
    "### Google Translator"
   ]
  },
  {
   "cell_type": "markdown",
   "id": "28785755-a28b-4caa-8c37-9f86cabb95e1",
   "metadata": {},
   "source": [
    "Primero se va a traducir del castellano al ingles y luego del inglés al castellano"
   ]
  },
  {
   "cell_type": "code",
   "execution_count": 8,
   "id": "d8c9d79f-598c-423d-9092-05b4ed9e0fa3",
   "metadata": {},
   "outputs": [],
   "source": [
    "validPath = '1. Back Translation\\\\1. Google Translator\\\\ValidReviewsTranslationsEsEnEnEs.txt'\n",
    "invalidPath = '1. Back Translation\\\\1. Google Translator\\\\InvalidReviewsTranslationsEsEnEnEs.txt'\n",
    "\n",
    "firstTranslator = GoogleTranslator(source = 'es', target = 'en')\n",
    "secondTranslator = GoogleTranslator(source='en', target='es')\n",
    "\n",
    "translatorList = [firstTranslator, secondTranslator]\n",
    "\n",
    "validSpanishReviewsGoogleEsEnEnEsDF = BackTranslation(translatorList, validReviewsDF, validPath)\n",
    "invalidSpanishReviewsGoogleEsEnEnESDF = BackTranslation(translatorList, invalidReviewsDF, invalidPath)"
   ]
  },
  {
   "cell_type": "markdown",
   "id": "f92e9e09-275c-4b2e-bc8a-0824a8e809fc",
   "metadata": {},
   "source": [
    "A continuación se va a traducir del castellano al japonés y del japonés al castellano"
   ]
  },
  {
   "cell_type": "code",
   "execution_count": 9,
   "id": "587bc968-c0b2-437c-8f89-e3bd1e30ca7c",
   "metadata": {},
   "outputs": [],
   "source": [
    "validPath = '1. Back Translation\\\\1. Google Translator\\\\ValidReviewsTranslationsEsJaJaEs.txt'\n",
    "invalidPath = '1. Back Translation\\\\1. Google Translator\\\\InvalidReviewsTranslationsEsJaJaEs.txt'\n",
    "\n",
    "firstTranslator = GoogleTranslator(source = 'es', target = 'ja')\n",
    "secondTranslator = GoogleTranslator(source='ja', target='es')\n",
    "\n",
    "translatorList = [firstTranslator, secondTranslator]\n",
    "\n",
    "validSpanishReviewsGoogleEsJaJaEsDF = BackTranslation(translatorList, validReviewsDF, validPath)\n",
    "invalidSpanishReviewsGoogleEsJaJaEsDF = BackTranslation(translatorList, invalidReviewsDF, invalidPath)"
   ]
  },
  {
   "cell_type": "markdown",
   "id": "5d9adc18-5942-4324-9ce4-52d941f1ef0a",
   "metadata": {},
   "source": [
    "Por último se va a implementar una cadena de traducciones más larga: castellano a frances, frances a japones, japones a ruso y ruso a catellano."
   ]
  },
  {
   "cell_type": "code",
   "execution_count": 10,
   "id": "14f0b7f2-efd6-4329-8d88-07b12d32e130",
   "metadata": {},
   "outputs": [],
   "source": [
    "validPath = '1. Back Translation\\\\1. Google Translator\\\\ValidReviewsTranslationsEsFrFrJaJaRuRuEs.txt'\n",
    "invalidPath = '1. Back Translation\\\\1. Google Translator\\\\InvalidReviewsTranslationsEsFrFrJaJaRuRuEs.txt'\n",
    "\n",
    "firstTranslator = GoogleTranslator(source = 'es', target = 'fr')\n",
    "secondTranslator = GoogleTranslator(source='fr', target='ja')\n",
    "thirdTranslator = GoogleTranslator(source='ja', target='ru')\n",
    "fourthTranslator = GoogleTranslator(source='ru', target='es')\n",
    "\n",
    "translatorList = [firstTranslator, secondTranslator, thirdTranslator, fourthTranslator]\n",
    "\n",
    "validSpanishReviewsGoogleEsFrFrJaJaRuRuEsDF = BackTranslation(translatorList, validReviewsDF, validPath)\n",
    "invalidSpanishReviewsGoogleEsFrFrJaJaRuRuEsDF = BackTranslation(translatorList, invalidReviewsDF, invalidPath)"
   ]
  },
  {
   "cell_type": "markdown",
   "id": "9a245504-b6e0-47a3-9276-2498b5f147dd",
   "metadata": {},
   "source": [
    "### MyMemory Translator"
   ]
  },
  {
   "cell_type": "markdown",
   "id": "79951b8d-efd6-414f-a644-d44895f204c3",
   "metadata": {},
   "source": [
    "Se van a realizar las mismas traducciones pero usando otro traductor"
   ]
  },
  {
   "cell_type": "markdown",
   "id": "d42669f5-986e-457f-943e-354d638a8da5",
   "metadata": {},
   "source": [
    "Castellano -> Inglés -> Castellano"
   ]
  },
  {
   "cell_type": "code",
   "execution_count": 11,
   "id": "33609a91-efa8-4d7c-9ab0-cdd9238b1f9f",
   "metadata": {},
   "outputs": [],
   "source": [
    "validPath = '1. Back Translation\\\\2. MyMemory Translator\\\\ValidReviewsTranslationsEsEnEnEs.txt'\n",
    "invalidPath = '1. Back Translation\\\\2. MyMemory Translator\\\\InvalidReviewsTranslationsEsEnEnEs.txt'\n",
    "\n",
    "firstTranslator = MyMemoryTranslator(source = 'spanish', target = 'english')\n",
    "secondTranslator = MyMemoryTranslator(source='english', target='spanish')\n",
    "\n",
    "translatorList = [firstTranslator, secondTranslator]\n",
    "\n",
    "validSpanishReviewsMyMemoryEsEnEnEsDF = BackTranslation(translatorList, validReviewsDF, validPath)\n",
    "invalidSpanishReviewsMyMemoryEsEnEnEsDF = BackTranslation(translatorList, invalidReviewsDF, invalidPath)"
   ]
  },
  {
   "cell_type": "markdown",
   "id": "90792d9d-d9df-43cf-96e1-4b8793450c79",
   "metadata": {},
   "source": [
    "Castellano -> Japonés -> Castellano"
   ]
  },
  {
   "cell_type": "code",
   "execution_count": 12,
   "id": "a207d69a-a95f-401b-ad78-0ca9c32cffba",
   "metadata": {},
   "outputs": [],
   "source": [
    "validPath = '1. Back Translation\\\\2. MyMemory Translator\\\\ValidReviewsTranslationsEsJaJaEs.txt'\n",
    "invalidPath = '1. Back Translation\\\\2. MyMemory Translator\\\\InvalidReviewsTranslationsEsJaJaEs.txt'\n",
    "\n",
    "firstTranslator = MyMemoryTranslator(source = 'spanish', target = 'japanese')\n",
    "secondTranslator = MyMemoryTranslator(source='japanese', target='spanish')\n",
    "\n",
    "translatorList = [firstTranslator, secondTranslator]\n",
    "\n",
    "validSpanishReviewsMyMemoryEsJaJaEsDF = BackTranslation(translatorList, validReviewsDF, validPath)\n",
    "invalidSpanishReviewsMyMemoryEsJaJaEsDF = BackTranslation(translatorList, invalidReviewsDF, invalidPath)"
   ]
  },
  {
   "cell_type": "markdown",
   "id": "513691e0-fab9-4d6a-9ee5-0fb7716dc9ef",
   "metadata": {},
   "source": [
    "Castellano -> Francés -> Japonés -> Ruso -> Castellano"
   ]
  },
  {
   "cell_type": "code",
   "execution_count": 13,
   "id": "4a0f68de-f676-421f-ba70-d85af504a9aa",
   "metadata": {},
   "outputs": [],
   "source": [
    "validPath = '1. Back Translation\\\\2. MyMemory Translator\\\\ValidReviewsTranslationsEsFrFrJaJaRuRuEs.txt'\n",
    "invalidPath = '1. Back Translation\\\\2. MyMemory Translator\\\\InvalidReviewsTranslationsEsFrFrJaJaRuRuEs.txt'\n",
    "\n",
    "firstTranslator = MyMemoryTranslator(source = 'spanish', target = 'french')\n",
    "secondTranslator = MyMemoryTranslator(source='french', target='japanese')\n",
    "thirdTranslator = MyMemoryTranslator(source='japanese', target='russian')\n",
    "fourthTranslator = MyMemoryTranslator(source='russian', target='spanish')\n",
    "\n",
    "translatorList = [firstTranslator, secondTranslator, thirdTranslator, fourthTranslator]\n",
    "\n",
    "validSpanishReviewsMyMemoryEsFrFrJaJaRuRuEsDF = BackTranslation(translatorList, validReviewsDF, validPath)\n",
    "invalidSpanishReviewsMyMemoryEsFrFrJaJaRuRuEsDF = BackTranslation(translatorList, invalidReviewsDF, invalidPath)"
   ]
  },
  {
   "cell_type": "markdown",
   "id": "35d80455-27fb-4758-90ca-a6b187e3649b",
   "metadata": {},
   "source": [
    "#### MyMemory genera errores en la traducción debido a problemas de conexión con el servidor. Consecuentemente, se procede a anilizar únicamente los datos generados por el traductor de Google"
   ]
  },
  {
   "cell_type": "markdown",
   "id": "4bac7f30-7ad4-4660-8633-a0b4f2b725f2",
   "metadata": {},
   "source": [
    "## Análisis de la retrotraducción:\n",
    "\n",
    "Dado que el código correspondiente a la traducción llevó largo rato y se dejo a la noche ejecutando, se vuelven a importar los datos a dataframes:"
   ]
  },
  {
   "cell_type": "code",
   "execution_count": 3,
   "id": "676fead3-89d2-41ca-9d2c-75df79bb16bc",
   "metadata": {},
   "outputs": [],
   "source": [
    "def importFromTxtToList(source):\n",
    "    with open(source, 'r', encoding=\"utf-8\") as file:\n",
    "        #Generate a list with all the reviews\n",
    "        targetList = [line.strip() for line in file]\n",
    "    return targetList"
   ]
  },
  {
   "cell_type": "markdown",
   "id": "738bf88b-1fc7-4cad-a2ff-9464486bf40d",
   "metadata": {},
   "source": [
    "Se importan las frases traducidas de: Castellano -> Inglés -> Castellano"
   ]
  },
  {
   "cell_type": "code",
   "execution_count": 4,
   "id": "fa962044-f7c9-44e0-b81e-a3aed6b90550",
   "metadata": {},
   "outputs": [],
   "source": [
    "validPath = '1. Back Translation\\\\1. Google Translator\\\\ValidReviewsTranslationsEsEnEnEs.txt'\n",
    "invalidPath = '1. Back Translation\\\\1. Google Translator\\\\InvalidReviewsTranslationsEsEnEnEs.txt'\n",
    "\n",
    "EsEnEnEsTraductionList = importFromTxtToList(validPath) + importFromTxtToList(invalidPath) "
   ]
  },
  {
   "cell_type": "markdown",
   "id": "e8aba3e7-7b3e-4edd-b6fa-6614cdb5b1f0",
   "metadata": {},
   "source": [
    "Castellano -> Japonés -> Castellano"
   ]
  },
  {
   "cell_type": "code",
   "execution_count": 5,
   "id": "1b4a68b0-2a8a-4037-946e-e9571106c21a",
   "metadata": {},
   "outputs": [],
   "source": [
    "validPath = '1. Back Translation\\\\1. Google Translator\\\\ValidReviewsTranslationsEsJaJaEs.txt'\n",
    "invalidPath = '1. Back Translation\\\\1. Google Translator\\\\InvalidReviewsTranslationsEsJaJaEs.txt'\n",
    "\n",
    "EsJaJaEsTraductionList = importFromTxtToList(validPath) + importFromTxtToList(invalidPath) "
   ]
  },
  {
   "cell_type": "markdown",
   "id": "e926d10c-9623-4b7d-bf42-6194e822d03b",
   "metadata": {},
   "source": [
    "Castellano -> Francés -> Japonés -> Ruso -> Castellano"
   ]
  },
  {
   "cell_type": "code",
   "execution_count": 6,
   "id": "6f757675-d52d-462c-8a24-7711a338fb2a",
   "metadata": {},
   "outputs": [],
   "source": [
    "validPath = '1. Back Translation\\\\1. Google Translator\\\\ValidReviewsTranslationsEsFrFrJaJaRuRuEs.txt'\n",
    "invalidPath = '1. Back Translation\\\\1. Google Translator\\\\InvalidReviewsTranslationsEsFrFrJaJaRuRuEs.txt'\n",
    "\n",
    "EsFrFrJaJaRuRuEsList = importFromTxtToList(validPath) + importFromTxtToList(invalidPath) "
   ]
  },
  {
   "cell_type": "markdown",
   "id": "3cae9ae0-bfa5-4119-8add-97154afdba13",
   "metadata": {},
   "source": [
    "### Similitud Semántica\n",
    "\n",
    "A continuación se va a capturar la similitud semántica entre cada par de oraciones traducidas. Es decir, se van a calcular los embeddings de oraciones de cada par de frases (la original y la traducida) y se va a usar una métrica de similitud para ver como de parecido es el significado de ambas frases.\n",
    "\n",
    "Se va a usar una versión de SBERT, llamada MiniLM (Minimal Lenguaje Model), que utiliza una variante más pequeña. Se usa MiniLM de seis capas (L6), que logra una precisón buena con menos recursos.\n",
    "\n",
    "Este modelo fue entrenado usando el corpus Multilingual Universal Sentence Encoder (mUSE), que incluye datos en varios idiomas, entre ellos el español. Consecuentemente, no hay problema al introducir frases en castellano. Es cierto, que obtiene mejores resultados para frases en inglés, ya que se entreno con más datos en este idioma."
   ]
  },
  {
   "cell_type": "code",
   "execution_count": 8,
   "id": "d2405496-ba81-4f02-95d4-e34c1217ae45",
   "metadata": {},
   "outputs": [],
   "source": [
    "from transformers import AutoTokenizer, AutoModel"
   ]
  },
  {
   "cell_type": "code",
   "execution_count": 9,
   "id": "30978e7f-cf9b-41fc-9056-0b78951d5018",
   "metadata": {},
   "outputs": [
    {
     "name": "stderr",
     "output_type": "stream",
     "text": [
      "C:\\Users\\ibonm\\anaconda3\\envs\\TFG\\Lib\\site-packages\\huggingface_hub\\file_download.py:139: UserWarning: `huggingface_hub` cache-system uses symlinks by default to efficiently store duplicated files but your machine does not support them in C:\\Users\\ibonm\\.cache\\huggingface\\hub\\models--sentence-transformers--all-MiniLM-L6-v2. Caching files will still work but in a degraded version that might require more space on your disk. This warning can be disabled by setting the `HF_HUB_DISABLE_SYMLINKS_WARNING` environment variable. For more details, see https://huggingface.co/docs/huggingface_hub/how-to-cache#limitations.\n",
      "To support symlinks on Windows, you either need to activate Developer Mode or to run Python as an administrator. In order to activate developer mode, see this article: https://docs.microsoft.com/en-us/windows/apps/get-started/enable-your-device-for-development\n",
      "  warnings.warn(message)\n"
     ]
    }
   ],
   "source": [
    "tokenizer = AutoTokenizer.from_pretrained(\"sentence-transformers/all-MiniLM-L6-v2\")"
   ]
  },
  {
   "cell_type": "code",
   "execution_count": null,
   "id": "62294e61-b56f-4aae-840c-0fd630c1a596",
   "metadata": {},
   "outputs": [],
   "source": []
  }
 ],
 "metadata": {
  "kernelspec": {
   "display_name": "Python 3 (ipykernel)",
   "language": "python",
   "name": "python3"
  },
  "language_info": {
   "codemirror_mode": {
    "name": "ipython",
    "version": 3
   },
   "file_extension": ".py",
   "mimetype": "text/x-python",
   "name": "python",
   "nbconvert_exporter": "python",
   "pygments_lexer": "ipython3",
   "version": "3.11.9"
  }
 },
 "nbformat": 4,
 "nbformat_minor": 5
}
