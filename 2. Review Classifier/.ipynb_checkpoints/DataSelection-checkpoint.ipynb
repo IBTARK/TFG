{
 "cells": [
  {
   "cell_type": "markdown",
   "id": "2557877f-83ca-4215-b77d-772912021c21",
   "metadata": {},
   "source": [
    "## Imports"
   ]
  },
  {
   "cell_type": "code",
   "execution_count": 2,
   "id": "286b7985-2876-45f7-8bb7-7c2cf1efe6c5",
   "metadata": {},
   "outputs": [],
   "source": [
    "import os\n",
    "import pandas as pd\n",
    "import csv\n",
    "from transformers import pipeline\n",
    "from datasets import Dataset"
   ]
  },
  {
   "cell_type": "markdown",
   "id": "cf003f93-9b91-46d7-b73b-b139abbe4c0f",
   "metadata": {},
   "source": [
    "## Seleccionar solo las reseñas clasificadas como válidas y almacenarlas "
   ]
  },
  {
   "cell_type": "code",
   "execution_count": 3,
   "id": "4fe3f209-f304-4fd7-8440-47424743a9a9",
   "metadata": {},
   "outputs": [],
   "source": [
    "inputFolderPath = \"../1. Data/3. Google Maps Reviews Without Emojis\"\n",
    "ouputFolderPath = \"../1. Data/5. Classified Reviews\"\n",
    "\n",
    "modelPath = \"../../../1. Models/Classifier/Results1\""
   ]
  },
  {
   "cell_type": "code",
   "execution_count": 4,
   "id": "ef1ece82-bb32-4bd1-bb6d-ba086e93e207",
   "metadata": {},
   "outputs": [
    {
     "name": "stderr",
     "output_type": "stream",
     "text": [
      "/home/ibon/Programas/anaconda3/envs/TFG/lib/python3.12/site-packages/transformers/pipelines/text_classification.py:106: UserWarning: `return_all_scores` is now deprecated,  if want a similar functionality use `top_k=None` instead of `return_all_scores=True` or `top_k=1` instead of `return_all_scores=False`.\n",
      "  warnings.warn(\n"
     ]
    }
   ],
   "source": [
    "BATCH_SIZE  = 32\n",
    "classifier = pipeline(\n",
    "    \"text-classification\",\n",
    "    model = modelPath,\n",
    "    tokenizer = modelPath,\n",
    "    device = 0,              \n",
    "    batch_size = BATCH_SIZE,\n",
    "    truncation = True,\n",
    "    max_length = 512,\n",
    "    return_all_scores = False # Only the most probable label\n",
    ")"
   ]
  },
  {
   "cell_type": "markdown",
   "id": "4d10a96a-44e0-473c-951b-486619c3c748",
   "metadata": {},
   "source": [
    "Procesar todos los csvs"
   ]
  },
  {
   "cell_type": "code",
   "execution_count": 5,
   "id": "49354f35-fd44-4e8c-a6f0-4c94c05267fd",
   "metadata": {},
   "outputs": [],
   "source": [
    "def load_reviews(path):\n",
    "    with open(path, encoding=\"utf-8\", newline=\"\") as f:\n",
    "        reader = csv.reader(f, quotechar='\"', skipinitialspace=True)\n",
    "        rows   = [row[0] for row in reader if row]\n",
    "    # Si la primera fila era la cabecera \"Review\", la descartamos\n",
    "    if rows and rows[0].strip().lower() == \"review\":\n",
    "        rows = rows[1:]\n",
    "    return pd.DataFrame({\"Review\": rows})"
   ]
  },
  {
   "cell_type": "code",
   "execution_count": 6,
   "id": "f3940768-681d-4e21-a18f-6b75e9832c11",
   "metadata": {},
   "outputs": [
    {
     "ename": "ValueError",
     "evalue": "Specified \\n as separator or delimiter. This forces the python engine which does not accept a line terminator. Hence it is not allowed to use the line terminator as separator.",
     "output_type": "error",
     "traceback": [
      "\u001b[0;31m---------------------------------------------------------------------------\u001b[0m",
      "\u001b[0;31mValueError\u001b[0m                                Traceback (most recent call last)",
      "Cell \u001b[0;32mIn[6], line 10\u001b[0m\n\u001b[1;32m      8\u001b[0m \u001b[38;5;66;03m# Import the data\u001b[39;00m\n\u001b[1;32m      9\u001b[0m inputPath \u001b[38;5;241m=\u001b[39m os\u001b[38;5;241m.\u001b[39mpath\u001b[38;5;241m.\u001b[39mjoin(inputFolderPath, station)\n\u001b[0;32m---> 10\u001b[0m df \u001b[38;5;241m=\u001b[39m load_reviews(inputPath)\n\u001b[1;32m     11\u001b[0m texts \u001b[38;5;241m=\u001b[39m df[\u001b[38;5;124m\"\u001b[39m\u001b[38;5;124mReview\u001b[39m\u001b[38;5;124m\"\u001b[39m]\u001b[38;5;241m.\u001b[39mastype(\u001b[38;5;28mstr\u001b[39m)\u001b[38;5;241m.\u001b[39mtolist()\n\u001b[1;32m     13\u001b[0m \u001b[38;5;66;03m# Obtain the classification\u001b[39;00m\n",
      "Cell \u001b[0;32mIn[5], line 2\u001b[0m, in \u001b[0;36mload_reviews\u001b[0;34m(path)\u001b[0m\n\u001b[1;32m      1\u001b[0m \u001b[38;5;28;01mdef\u001b[39;00m \u001b[38;5;21mload_reviews\u001b[39m(path):\n\u001b[0;32m----> 2\u001b[0m     df \u001b[38;5;241m=\u001b[39m pd\u001b[38;5;241m.\u001b[39mread_csv(\n\u001b[1;32m      3\u001b[0m         path,\n\u001b[1;32m      4\u001b[0m         sep\u001b[38;5;241m=\u001b[39m\u001b[38;5;124m\"\u001b[39m\u001b[38;5;130;01m\\n\u001b[39;00m\u001b[38;5;124m\"\u001b[39m,          \n\u001b[1;32m      5\u001b[0m         engine\u001b[38;5;241m=\u001b[39m\u001b[38;5;124m\"\u001b[39m\u001b[38;5;124mpython\u001b[39m\u001b[38;5;124m\"\u001b[39m,   \n\u001b[1;32m      6\u001b[0m         header\u001b[38;5;241m=\u001b[39m\u001b[38;5;28;01mNone\u001b[39;00m,       \n\u001b[1;32m      7\u001b[0m         names\u001b[38;5;241m=\u001b[39m[\u001b[38;5;124m\"\u001b[39m\u001b[38;5;124mReview\u001b[39m\u001b[38;5;124m\"\u001b[39m],  \n\u001b[1;32m      8\u001b[0m         quotechar\u001b[38;5;241m=\u001b[39m\u001b[38;5;124m'\u001b[39m\u001b[38;5;124m\"\u001b[39m\u001b[38;5;124m'\u001b[39m      \n\u001b[1;32m      9\u001b[0m     )\n\u001b[1;32m     10\u001b[0m     \u001b[38;5;28;01mif\u001b[39;00m df\u001b[38;5;241m.\u001b[39mat[\u001b[38;5;241m0\u001b[39m, \u001b[38;5;124m\"\u001b[39m\u001b[38;5;124mReview\u001b[39m\u001b[38;5;124m\"\u001b[39m]\u001b[38;5;241m.\u001b[39mstrip()\u001b[38;5;241m.\u001b[39mlower() \u001b[38;5;241m==\u001b[39m \u001b[38;5;124m\"\u001b[39m\u001b[38;5;124mreview\u001b[39m\u001b[38;5;124m\"\u001b[39m:\n\u001b[1;32m     11\u001b[0m         df \u001b[38;5;241m=\u001b[39m df\u001b[38;5;241m.\u001b[39mdrop(\u001b[38;5;241m0\u001b[39m)\u001b[38;5;241m.\u001b[39mreset_index(drop\u001b[38;5;241m=\u001b[39m\u001b[38;5;28;01mTrue\u001b[39;00m)\n",
      "File \u001b[0;32m~/Programas/anaconda3/envs/TFG/lib/python3.12/site-packages/pandas/io/parsers/readers.py:1013\u001b[0m, in \u001b[0;36mread_csv\u001b[0;34m(filepath_or_buffer, sep, delimiter, header, names, index_col, usecols, dtype, engine, converters, true_values, false_values, skipinitialspace, skiprows, skipfooter, nrows, na_values, keep_default_na, na_filter, verbose, skip_blank_lines, parse_dates, infer_datetime_format, keep_date_col, date_parser, date_format, dayfirst, cache_dates, iterator, chunksize, compression, thousands, decimal, lineterminator, quotechar, quoting, doublequote, escapechar, comment, encoding, encoding_errors, dialect, on_bad_lines, delim_whitespace, low_memory, memory_map, float_precision, storage_options, dtype_backend)\u001b[0m\n\u001b[1;32m   1010\u001b[0m \u001b[38;5;28;01mdel\u001b[39;00m kwds[\u001b[38;5;124m\"\u001b[39m\u001b[38;5;124mfilepath_or_buffer\u001b[39m\u001b[38;5;124m\"\u001b[39m]\n\u001b[1;32m   1011\u001b[0m \u001b[38;5;28;01mdel\u001b[39;00m kwds[\u001b[38;5;124m\"\u001b[39m\u001b[38;5;124msep\u001b[39m\u001b[38;5;124m\"\u001b[39m]\n\u001b[0;32m-> 1013\u001b[0m kwds_defaults \u001b[38;5;241m=\u001b[39m _refine_defaults_read(\n\u001b[1;32m   1014\u001b[0m     dialect,\n\u001b[1;32m   1015\u001b[0m     delimiter,\n\u001b[1;32m   1016\u001b[0m     delim_whitespace,\n\u001b[1;32m   1017\u001b[0m     engine,\n\u001b[1;32m   1018\u001b[0m     sep,\n\u001b[1;32m   1019\u001b[0m     on_bad_lines,\n\u001b[1;32m   1020\u001b[0m     names,\n\u001b[1;32m   1021\u001b[0m     defaults\u001b[38;5;241m=\u001b[39m{\u001b[38;5;124m\"\u001b[39m\u001b[38;5;124mdelimiter\u001b[39m\u001b[38;5;124m\"\u001b[39m: \u001b[38;5;124m\"\u001b[39m\u001b[38;5;124m,\u001b[39m\u001b[38;5;124m\"\u001b[39m},\n\u001b[1;32m   1022\u001b[0m     dtype_backend\u001b[38;5;241m=\u001b[39mdtype_backend,\n\u001b[1;32m   1023\u001b[0m )\n\u001b[1;32m   1024\u001b[0m kwds\u001b[38;5;241m.\u001b[39mupdate(kwds_defaults)\n\u001b[1;32m   1026\u001b[0m \u001b[38;5;28;01mreturn\u001b[39;00m _read(filepath_or_buffer, kwds)\n",
      "File \u001b[0;32m~/Programas/anaconda3/envs/TFG/lib/python3.12/site-packages/pandas/io/parsers/readers.py:2226\u001b[0m, in \u001b[0;36m_refine_defaults_read\u001b[0;34m(dialect, delimiter, delim_whitespace, engine, sep, on_bad_lines, names, defaults, dtype_backend)\u001b[0m\n\u001b[1;32m   2220\u001b[0m     \u001b[38;5;28;01mraise\u001b[39;00m \u001b[38;5;167;01mValueError\u001b[39;00m(\n\u001b[1;32m   2221\u001b[0m         \u001b[38;5;124m\"\u001b[39m\u001b[38;5;124mSpecified a delimiter with both sep and \u001b[39m\u001b[38;5;124m\"\u001b[39m\n\u001b[1;32m   2222\u001b[0m         \u001b[38;5;124m\"\u001b[39m\u001b[38;5;124mdelim_whitespace=True; you can only specify one.\u001b[39m\u001b[38;5;124m\"\u001b[39m\n\u001b[1;32m   2223\u001b[0m     )\n\u001b[1;32m   2225\u001b[0m \u001b[38;5;28;01mif\u001b[39;00m delimiter \u001b[38;5;241m==\u001b[39m \u001b[38;5;124m\"\u001b[39m\u001b[38;5;130;01m\\n\u001b[39;00m\u001b[38;5;124m\"\u001b[39m:\n\u001b[0;32m-> 2226\u001b[0m     \u001b[38;5;28;01mraise\u001b[39;00m \u001b[38;5;167;01mValueError\u001b[39;00m(\n\u001b[1;32m   2227\u001b[0m         \u001b[38;5;124mr\u001b[39m\u001b[38;5;124m\"\u001b[39m\u001b[38;5;124mSpecified \u001b[39m\u001b[38;5;124m\\\u001b[39m\u001b[38;5;124mn as separator or delimiter. This forces the python engine \u001b[39m\u001b[38;5;124m\"\u001b[39m\n\u001b[1;32m   2228\u001b[0m         \u001b[38;5;124m\"\u001b[39m\u001b[38;5;124mwhich does not accept a line terminator. Hence it is not allowed to use \u001b[39m\u001b[38;5;124m\"\u001b[39m\n\u001b[1;32m   2229\u001b[0m         \u001b[38;5;124m\"\u001b[39m\u001b[38;5;124mthe line terminator as separator.\u001b[39m\u001b[38;5;124m\"\u001b[39m,\n\u001b[1;32m   2230\u001b[0m     )\n\u001b[1;32m   2232\u001b[0m \u001b[38;5;28;01mif\u001b[39;00m delimiter \u001b[38;5;129;01mis\u001b[39;00m lib\u001b[38;5;241m.\u001b[39mno_default:\n\u001b[1;32m   2233\u001b[0m     \u001b[38;5;66;03m# assign default separator value\u001b[39;00m\n\u001b[1;32m   2234\u001b[0m     kwds[\u001b[38;5;124m\"\u001b[39m\u001b[38;5;124mdelimiter\u001b[39m\u001b[38;5;124m\"\u001b[39m] \u001b[38;5;241m=\u001b[39m delim_default\n",
      "\u001b[0;31mValueError\u001b[0m: Specified \\n as separator or delimiter. This forces the python engine which does not accept a line terminator. Hence it is not allowed to use the line terminator as separator."
     ]
    }
   ],
   "source": [
    "VALID_LABEL = \"LABEL_1\"\n",
    "\n",
    "for station in os.listdir(inputFolderPath):\n",
    "\n",
    "    if not station.lower().endswith(\".csv\"):\n",
    "        continue\n",
    "\n",
    "    # Import the data\n",
    "    inputPath = os.path.join(inputFolderPath, station)\n",
    "    df = load_reviews(inputPath)\n",
    "    texts = df[\"Review\"].astype(str).tolist()\n",
    "\n",
    "    # Obtain the classification\n",
    "    results = classifier(texts)\n",
    "    labels = [result[\"label\"] for result in results]\n",
    "\n",
    "    # Filter only the valid reviews\n",
    "    mask = [label == VALID_LABEL for label in labels]\n",
    "    dfValid = df.loc[mask]\n",
    "\n",
    "    # Save the valid reviews\n",
    "    outPath = os.path.join(ouputFolderPath, station)\n",
    "    dfValid.to_csv(outPath, index = False)"
   ]
  },
  {
   "cell_type": "code",
   "execution_count": null,
   "id": "ef4c6da5-75f6-4d47-b4e2-48f2aa72a06e",
   "metadata": {},
   "outputs": [],
   "source": []
  }
 ],
 "metadata": {
  "kernelspec": {
   "display_name": "Python 3 (ipykernel)",
   "language": "python",
   "name": "python3"
  },
  "language_info": {
   "codemirror_mode": {
    "name": "ipython",
    "version": 3
   },
   "file_extension": ".py",
   "mimetype": "text/x-python",
   "name": "python",
   "nbconvert_exporter": "python",
   "pygments_lexer": "ipython3",
   "version": "3.12.7"
  }
 },
 "nbformat": 4,
 "nbformat_minor": 5
}
