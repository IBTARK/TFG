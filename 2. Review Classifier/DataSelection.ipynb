{
 "cells": [
  {
   "cell_type": "markdown",
   "id": "2557877f-83ca-4215-b77d-772912021c21",
   "metadata": {},
   "source": [
    "## Imports"
   ]
  },
  {
   "cell_type": "code",
   "execution_count": 2,
   "id": "286b7985-2876-45f7-8bb7-7c2cf1efe6c5",
   "metadata": {},
   "outputs": [
    {
     "name": "stderr",
     "output_type": "stream",
     "text": [
      "/home/ibon/Programas/anaconda3/envs/TFG/lib/python3.12/site-packages/tqdm/auto.py:21: TqdmWarning: IProgress not found. Please update jupyter and ipywidgets. See https://ipywidgets.readthedocs.io/en/stable/user_install.html\n",
      "  from .autonotebook import tqdm as notebook_tqdm\n",
      "2025-04-20 12:29:02.870338: I tensorflow/core/util/port.cc:153] oneDNN custom operations are on. You may see slightly different numerical results due to floating-point round-off errors from different computation orders. To turn them off, set the environment variable `TF_ENABLE_ONEDNN_OPTS=0`.\n",
      "2025-04-20 12:29:02.878916: E external/local_xla/xla/stream_executor/cuda/cuda_fft.cc:477] Unable to register cuFFT factory: Attempting to register factory for plugin cuFFT when one has already been registered\n",
      "WARNING: All log messages before absl::InitializeLog() is called are written to STDERR\n",
      "E0000 00:00:1745144942.889533   16203 cuda_dnn.cc:8310] Unable to register cuDNN factory: Attempting to register factory for plugin cuDNN when one has already been registered\n",
      "E0000 00:00:1745144942.892567   16203 cuda_blas.cc:1418] Unable to register cuBLAS factory: Attempting to register factory for plugin cuBLAS when one has already been registered\n",
      "2025-04-20 12:29:02.903923: I tensorflow/core/platform/cpu_feature_guard.cc:210] This TensorFlow binary is optimized to use available CPU instructions in performance-critical operations.\n",
      "To enable the following instructions: AVX2 AVX_VNNI FMA, in other operations, rebuild TensorFlow with the appropriate compiler flags.\n"
     ]
    }
   ],
   "source": [
    "import torch\n",
    "import pandas as pd\n",
    "import os\n",
    "import numpy as np\n",
    "from transformers import XLMRobertaForSequenceClassification, XLMRobertaTokenizerFast\n",
    "from datasets import Dataset, DatasetDict, concatenate_datasets"
   ]
  },
  {
   "cell_type": "markdown",
   "id": "cf003f93-9b91-46d7-b73b-b139abbe4c0f",
   "metadata": {},
   "source": [
    "## Carga del mejor de los modelos entrenados"
   ]
  },
  {
   "cell_type": "code",
   "execution_count": 5,
   "id": "c988dc85-d277-48ea-9adc-3d5ee4cf64cf",
   "metadata": {},
   "outputs": [],
   "source": [
    "modelPath = \"../../../1. Models/Classifier/Results1\"\n",
    "\n",
    "#Import the model\n",
    "tokenizer = XLMRobertaTokenizerFast.from_pretrained(modelPath)\n",
    "model = XLMRobertaForSequenceClassification.from_pretrained(modelPath, num_labels = 2)"
   ]
  },
  {
   "cell_type": "markdown",
   "id": "2367efad-f351-4e52-b372-728770e46c70",
   "metadata": {},
   "source": [
    "## Carga de los datos"
   ]
  },
  {
   "cell_type": "code",
   "execution_count": 3,
   "id": "eb11f6e8-9b9a-4f5c-b5f0-94e0496755fe",
   "metadata": {},
   "outputs": [],
   "source": [
    "dataFolderPath = \"../1. Data/3. Google Maps Reviews Without Emojis\"\n",
    "stationNamesPath = \"../1. Data/NombreEstacionesMetroMadrid.txt\""
   ]
  },
  {
   "cell_type": "code",
   "execution_count": 6,
   "id": "b5c0251b-0a5c-4446-919f-865ad6f0e718",
   "metadata": {},
   "outputs": [],
   "source": [
    "df = pd.read_csv(dataFolderPath + \"/Abrantes.csv\")"
   ]
  },
  {
   "cell_type": "code",
   "execution_count": null,
   "id": "528577b9-307b-4e1a-b2db-5c5c25cb854d",
   "metadata": {},
   "outputs": [],
   "source": []
  },
  {
   "cell_type": "code",
   "execution_count": null,
   "id": "d7edff34-9953-496a-854f-1c12fc8764ff",
   "metadata": {},
   "outputs": [],
   "source": [
    "# Tokenize the data\n",
    "testDataset = testDataset.map(lambda x: tokenizeFunction(x, tokenizer), batched = True)\n",
    "testDataset.set_format(type = 'torch', columns = ['input_ids', 'attention_mask', 'label'])"
   ]
  },
  {
   "cell_type": "code",
   "execution_count": null,
   "id": "0fa1e1b6-7f05-482b-854b-21abff5b16b5",
   "metadata": {},
   "outputs": [],
   "source": []
  },
  {
   "cell_type": "code",
   "execution_count": 21,
   "id": "9042756e-6686-444e-ae05-1ef045dbf9ac",
   "metadata": {},
   "outputs": [],
   "source": [
    "import glob, os\n",
    "\n",
    "header = 'Review\\n'\n",
    "\n",
    "for filepath in glob.glob(os.path.join(dataFolderPath, '*.csv')):\n",
    "    # Lee todo el fichero\n",
    "    with open(filepath, 'r', encoding='utf-8') as f:\n",
    "        content = f.read()\n",
    "    # Reescribe: header + contenido original\n",
    "    with open(filepath, 'w', encoding='utf-8') as f:\n",
    "        f.write(header + content)"
   ]
  },
  {
   "cell_type": "code",
   "execution_count": null,
   "id": "0e454e26-f7a6-4e48-95cc-2d9036fba1ca",
   "metadata": {},
   "outputs": [],
   "source": []
  },
  {
   "cell_type": "code",
   "execution_count": null,
   "id": "0d8f52c5-bb6b-44e1-9a96-1b70537bfaa8",
   "metadata": {},
   "outputs": [],
   "source": [
    "def evaluateClassifier(modelPath, outputPath, testDataset):   \n",
    "    \n",
    "    # Obtain predictions\n",
    "    predictions = trainer.predict(testDataset)\n",
    "    \n",
    "    #Extract logits and calculate final predictions\n",
    "    logits = predictions.predictions\n",
    "    yPred = np.argmax(logits, axis = 1)\n",
    "    yTrue = predictions.label_ids"
   ]
  }
 ],
 "metadata": {
  "kernelspec": {
   "display_name": "Python 3 (ipykernel)",
   "language": "python",
   "name": "python3"
  },
  "language_info": {
   "codemirror_mode": {
    "name": "ipython",
    "version": 3
   },
   "file_extension": ".py",
   "mimetype": "text/x-python",
   "name": "python",
   "nbconvert_exporter": "python",
   "pygments_lexer": "ipython3",
   "version": "3.12.7"
  }
 },
 "nbformat": 4,
 "nbformat_minor": 5
}
