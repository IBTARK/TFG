{
 "cells": [
  {
   "cell_type": "markdown",
   "id": "2557877f-83ca-4215-b77d-772912021c21",
   "metadata": {},
   "source": [
    "## Imports"
   ]
  },
  {
   "cell_type": "code",
   "execution_count": 2,
   "id": "286b7985-2876-45f7-8bb7-7c2cf1efe6c5",
   "metadata": {},
   "outputs": [],
   "source": [
    "import os\n",
    "import pandas as pd\n",
    "import csv\n",
    "from transformers import pipeline\n",
    "from datasets import Dataset"
   ]
  },
  {
   "cell_type": "markdown",
   "id": "cf003f93-9b91-46d7-b73b-b139abbe4c0f",
   "metadata": {},
   "source": [
    "## Seleccionar solo las reseñas clasificadas como válidas y almacenarlas "
   ]
  },
  {
   "cell_type": "code",
   "execution_count": 3,
   "id": "4fe3f209-f304-4fd7-8440-47424743a9a9",
   "metadata": {},
   "outputs": [],
   "source": [
    "inputFolderPath = \"../1. Data/3. Google Maps Reviews Without Emojis\"\n",
    "ouputFolderPath = \"../1. Data/5. Classified Reviews\"\n",
    "\n",
    "modelPath = \"../../../1. Models/Classifier/Results1\""
   ]
  },
  {
   "cell_type": "code",
   "execution_count": 4,
   "id": "ef1ece82-bb32-4bd1-bb6d-ba086e93e207",
   "metadata": {},
   "outputs": [
    {
     "name": "stderr",
     "output_type": "stream",
     "text": [
      "/home/ibon/Programas/anaconda3/envs/TFG/lib/python3.12/site-packages/transformers/pipelines/text_classification.py:106: UserWarning: `return_all_scores` is now deprecated,  if want a similar functionality use `top_k=None` instead of `return_all_scores=True` or `top_k=1` instead of `return_all_scores=False`.\n",
      "  warnings.warn(\n"
     ]
    }
   ],
   "source": [
    "BATCH_SIZE  = 32\n",
    "classifier = pipeline(\n",
    "    \"text-classification\",\n",
    "    model = modelPath,\n",
    "    tokenizer = modelPath,\n",
    "    device = 0,              \n",
    "    batch_size = BATCH_SIZE,\n",
    "    truncation = True,\n",
    "    max_length = 512,\n",
    "    return_all_scores = False # Only the most probable label\n",
    ")"
   ]
  },
  {
   "cell_type": "markdown",
   "id": "4d10a96a-44e0-473c-951b-486619c3c748",
   "metadata": {},
   "source": [
    "Procesar todos los csvs"
   ]
  },
  {
   "cell_type": "code",
   "execution_count": 5,
   "id": "49354f35-fd44-4e8c-a6f0-4c94c05267fd",
   "metadata": {},
   "outputs": [],
   "source": [
    "def load_reviews(path):\n",
    "    with open(path, encoding=\"utf-8\", newline=\"\") as f:\n",
    "        reader = csv.reader(f, quotechar='\"', skipinitialspace=True)\n",
    "        rows   = [row[0] for row in reader if row]\n",
    "    # Si la primera fila era la cabecera \"Review\", la descartamos\n",
    "    if rows and rows[0].strip().lower() == \"review\":\n",
    "        rows = rows[1:]\n",
    "    return pd.DataFrame({\"Review\": rows})"
   ]
  },
  {
   "cell_type": "code",
   "execution_count": 6,
   "id": "f3940768-681d-4e21-a18f-6b75e9832c11",
   "metadata": {},
   "outputs": [
    {
     "name": "stderr",
     "output_type": "stream",
     "text": [
      "You seem to be using the pipelines sequentially on GPU. In order to maximize efficiency please use a dataset\n"
     ]
    }
   ],
   "source": [
    "VALID_LABEL = \"LABEL_1\"\n",
    "\n",
    "for station in os.listdir(inputFolderPath):\n",
    "\n",
    "    if not station.lower().endswith(\".csv\"):\n",
    "        continue\n",
    "\n",
    "    # Import the data\n",
    "    inputPath = os.path.join(inputFolderPath, station)\n",
    "    df = load_reviews(inputPath)\n",
    "    texts = df[\"Review\"].astype(str).tolist()\n",
    "\n",
    "    # Obtain the classification\n",
    "    results = classifier(texts)\n",
    "    labels = [result[\"label\"] for result in results]\n",
    "\n",
    "    # Filter only the valid reviews\n",
    "    mask = [label == VALID_LABEL for label in labels]\n",
    "    dfValid = df.loc[mask]\n",
    "\n",
    "    # Save the valid reviews\n",
    "    outPath = os.path.join(ouputFolderPath, station)\n",
    "    dfValid.to_csv(outPath, index = False)"
   ]
  },
  {
   "cell_type": "code",
   "execution_count": null,
   "id": "ef4c6da5-75f6-4d47-b4e2-48f2aa72a06e",
   "metadata": {},
   "outputs": [],
   "source": []
  },
  {
   "cell_type": "code",
   "execution_count": null,
   "id": "eb481785-98ce-4cf9-a272-8a229979aaa7",
   "metadata": {},
   "outputs": [],
   "source": []
  }
 ],
 "metadata": {
  "kernelspec": {
   "display_name": "Python 3 (ipykernel)",
   "language": "python",
   "name": "python3"
  },
  "language_info": {
   "codemirror_mode": {
    "name": "ipython",
    "version": 3
   },
   "file_extension": ".py",
   "mimetype": "text/x-python",
   "name": "python",
   "nbconvert_exporter": "python",
   "pygments_lexer": "ipython3",
   "version": "3.12.7"
  }
 },
 "nbformat": 4,
 "nbformat_minor": 5
}
