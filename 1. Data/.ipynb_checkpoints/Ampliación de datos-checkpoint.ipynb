{
 "cells": [
  {
   "cell_type": "markdown",
   "id": "e7c2d0ec-b1c2-4e74-8c57-562b03aff8f1",
   "metadata": {},
   "source": [
    "# Ampliación de datos\n",
    "\n",
    "En este notebook se va a aplicar la técnica de ampliación de datos a un conjunto de reseñas de Google Maps separadas en dos ficheros: uno con las reseñas que se van a considerar válidas y el otro con las inválidas. Cada línea es una reseña nueva."
   ]
  },
  {
   "cell_type": "markdown",
   "id": "7e0485a5-5543-499d-a2a6-ce3ab7333f3c",
   "metadata": {},
   "source": [
    "### Imports"
   ]
  },
  {
   "cell_type": "code",
   "execution_count": 36,
   "id": "f54d4a66-799a-460d-b32e-b71b3755cbf2",
   "metadata": {},
   "outputs": [],
   "source": [
    "import pandas as pd\n",
    "from deep_translator import GoogleTranslator"
   ]
  },
  {
   "cell_type": "markdown",
   "id": "7d6ac5b7-6508-4ea6-bca1-ffe46883ecc8",
   "metadata": {},
   "source": [
    "### Pandas\n",
    "Se van a pasar los datos a pandas: uno con las valoraciones validas y otro con las negativas. Cada fila del panda será una reseña"
   ]
  },
  {
   "cell_type": "code",
   "execution_count": 37,
   "id": "24b5349c-7065-4648-ae4b-0494c6726555",
   "metadata": {},
   "outputs": [],
   "source": [
    "#Read the file with the valid reviews\n",
    "with open('3. Labeled Reviews\\ValidReviews.txt', 'r', encoding=\"utf-8\") as validReviewsFile:\n",
    "    #Generate a list with all the reviews\n",
    "    validReviewsList = [line.strip() for line in validReviewsFile]\n",
    "\n",
    "#Read the file with the valid reviews\n",
    "with open('3. Labeled Reviews\\InvalidReviews.txt', 'r', encoding=\"utf-8\") as invalidReviewsFile:\n",
    "    #Generate a list with all the reviews\n",
    "    invalidReviewsList = [line.strip() for line in invalidReviewsFile]\n",
    "\n",
    "\n",
    "#Tranform the lists to a data frames\n",
    "validReviewsDF = pd.DataFrame(validReviewsList, columns=['Text'])\n",
    "invalidReviewsDF = pd.DataFrame(invalidReviewsList, columns=['Text'])"
   ]
  },
  {
   "cell_type": "markdown",
   "id": "30ca07cf-8f96-40c5-886e-9a26f7524bfe",
   "metadata": {},
   "source": [
    "Se muestran las primeras reseñas válidas"
   ]
  },
  {
   "cell_type": "code",
   "execution_count": 38,
   "id": "9f1cdd36-9728-4962-a4bd-b6bf4731e01f",
   "metadata": {},
   "outputs": [
    {
     "data": {
      "text/html": [
       "<div>\n",
       "<style scoped>\n",
       "    .dataframe tbody tr th:only-of-type {\n",
       "        vertical-align: middle;\n",
       "    }\n",
       "\n",
       "    .dataframe tbody tr th {\n",
       "        vertical-align: top;\n",
       "    }\n",
       "\n",
       "    .dataframe thead th {\n",
       "        text-align: right;\n",
       "    }\n",
       "</style>\n",
       "<table border=\"1\" class=\"dataframe\">\n",
       "  <thead>\n",
       "    <tr style=\"text-align: right;\">\n",
       "      <th></th>\n",
       "      <th>Text</th>\n",
       "    </tr>\n",
       "  </thead>\n",
       "  <tbody>\n",
       "    <tr>\n",
       "      <th>0</th>\n",
       "      <td>\"Tiene fácil acceso para las personas con movi...</td>\n",
       "    </tr>\n",
       "    <tr>\n",
       "      <th>1</th>\n",
       "      <td>\"Espero que hayan mejorais\"</td>\n",
       "    </tr>\n",
       "    <tr>\n",
       "      <th>2</th>\n",
       "      <td>\"La estación es antigua, aparte de tener una s...</td>\n",
       "    </tr>\n",
       "    <tr>\n",
       "      <th>3</th>\n",
       "      <td>\"Bien\"</td>\n",
       "    </tr>\n",
       "    <tr>\n",
       "      <th>4</th>\n",
       "      <td>\"Bonito comodo\"</td>\n",
       "    </tr>\n",
       "  </tbody>\n",
       "</table>\n",
       "</div>"
      ],
      "text/plain": [
       "                                                Text\n",
       "0  \"Tiene fácil acceso para las personas con movi...\n",
       "1                        \"Espero que hayan mejorais\"\n",
       "2  \"La estación es antigua, aparte de tener una s...\n",
       "3                                             \"Bien\"\n",
       "4                                    \"Bonito comodo\""
      ]
     },
     "execution_count": 38,
     "metadata": {},
     "output_type": "execute_result"
    }
   ],
   "source": [
    "validReviewsDF.head()"
   ]
  },
  {
   "cell_type": "markdown",
   "id": "9c57d6e4-e380-4a66-a893-b032b7257254",
   "metadata": {},
   "source": [
    "Se muestran las primeras reseñas inválidas"
   ]
  },
  {
   "cell_type": "code",
   "execution_count": 39,
   "id": "6074bca2-03f7-4503-8dcf-01069a61d953",
   "metadata": {},
   "outputs": [
    {
     "data": {
      "text/html": [
       "<div>\n",
       "<style scoped>\n",
       "    .dataframe tbody tr th:only-of-type {\n",
       "        vertical-align: middle;\n",
       "    }\n",
       "\n",
       "    .dataframe tbody tr th {\n",
       "        vertical-align: top;\n",
       "    }\n",
       "\n",
       "    .dataframe thead th {\n",
       "        text-align: right;\n",
       "    }\n",
       "</style>\n",
       "<table border=\"1\" class=\"dataframe\">\n",
       "  <thead>\n",
       "    <tr style=\"text-align: right;\">\n",
       "      <th></th>\n",
       "      <th>Text</th>\n",
       "    </tr>\n",
       "  </thead>\n",
       "  <tbody>\n",
       "    <tr>\n",
       "      <th>0</th>\n",
       "      <td>\"He vivido 35 años en el barrio y reconozco qu...</td>\n",
       "    </tr>\n",
       "    <tr>\n",
       "      <th>1</th>\n",
       "      <td>\"localización con muchos bares interesantes\"</td>\n",
       "    </tr>\n",
       "    <tr>\n",
       "      <th>2</th>\n",
       "      <td>\"😂…\"</td>\n",
       "    </tr>\n",
       "    <tr>\n",
       "      <th>3</th>\n",
       "      <td>\"Muy rica comida..\"</td>\n",
       "    </tr>\n",
       "    <tr>\n",
       "      <th>4</th>\n",
       "      <td>\"Estación del.metro\"</td>\n",
       "    </tr>\n",
       "  </tbody>\n",
       "</table>\n",
       "</div>"
      ],
      "text/plain": [
       "                                                Text\n",
       "0  \"He vivido 35 años en el barrio y reconozco qu...\n",
       "1       \"localización con muchos bares interesantes\"\n",
       "2                                               \"😂…\"\n",
       "3                                \"Muy rica comida..\"\n",
       "4                               \"Estación del.metro\""
      ]
     },
     "execution_count": 39,
     "metadata": {},
     "output_type": "execute_result"
    }
   ],
   "source": [
    "invalidReviewsDF.head()"
   ]
  },
  {
   "cell_type": "markdown",
   "id": "72b81dbd-a09d-4a75-9fd0-ae00c1d45366",
   "metadata": {},
   "source": [
    "## Back translation\n",
    "\n",
    "El primer método de ampliación de datos que se va a usar va a ser Back translation. Consiste en traducir el texto a un idioma distinto y luego volverlo a traducir al idioma original. \n",
    "\n",
    "Este proceso puede genera texto con el mismo significado que el original pero distintas palabras."
   ]
  },
  {
   "cell_type": "code",
   "execution_count": 59,
   "id": "6d137f41-d490-4723-b33d-252f91ea8040",
   "metadata": {},
   "outputs": [],
   "source": [
    "#The google translator is going to be used.\n",
    "def BackTranslation(reviewsDF, englishPath, spanishPath):\n",
    "    #Open the files in which the translations are strored\n",
    "    englishReviewsFile = open(englishPath, 'w', encoding=\"utf-8\")\n",
    "    spanishReviewsFile = open(spanishPath, 'w', encoding=\"utf-8\")\n",
    "\n",
    "    #Generate two data frames to save the translations\n",
    "    englishReviewsDF = pd.DataFrame(columns=[\"Text\"])\n",
    "    spanishReviewsDF = pd.DataFrame(columns=[\"Text\"])\n",
    "    \n",
    "    for elem in reviewsDF['Text']:\n",
    "        #Translate to english all the reviews\n",
    "        try:\n",
    "            englishTranslation = GoogleTranslator(source='es', target='en').translate(elem)\n",
    "        except Exception as e: #If the translation fails \"\" is written\n",
    "           englishTranslation = '\"\"'\n",
    "            \n",
    "        print(elem)\n",
    "        print(englishTranslation)\n",
    "        englishReviewsDF = pd.concat([englishReviewsDF, pd.DataFrame({\"Text\" : [englishTranslation]})], ignore_index = True)\n",
    "        englishReviewsFile.write(englishTranslation + \"\\n\")\n",
    "        \n",
    "        #Translate back to spanish\n",
    "        try:\n",
    "            spanishTranslation = GoogleTranslator(source='es', target='en').translate(elem)\n",
    "        except Exception as e:\n",
    "            spanishTranslation = ['\"\"']\n",
    "\n",
    "        spanishReviewsDF = pd.concat([spanishReviewsDF, pd.DataFrame({\"Text\" : [spanishTranslation]})], ignore_index = True)\n",
    "        spanishReviewsFile.write(spanishTranslation + \"\\n\")\n",
    "\n",
    "    #Close the files in which the translations are strored\n",
    "    englishReviewsFile.close()\n",
    "    spanishReviewsFile.close()\n",
    "    \n",
    "    return englishReviewsDF, spanishReviewsDF"
   ]
  },
  {
   "cell_type": "code",
   "execution_count": 60,
   "id": "d8c9d79f-598c-423d-9092-05b4ed9e0fa3",
   "metadata": {},
   "outputs": [
    {
     "name": "stdout",
     "output_type": "stream",
     "text": [
      "\"Tiene fácil acceso para las personas con movilidad reducida, una salida hacia el colegio Julián Besteiro y el otro en frente del Burgen King.\"\n",
      "\"It has easy access for people with reduced mobility, one exit towards the Julián Besteiro school and the other in front of Burgen King.\"\n",
      "\"Espero que hayan mejorais\"\n",
      "\"I hope you have improved\"\n",
      "\"La estación es antigua, aparte de tener una sola salida de metro no está habilitada para personas con discapacidad. Además comunica por un pasillo subterráneo (que parece infinito) con Embajadores que pertenece a la línea 3 de metro\"\n",
      "\"The station is old, apart from having only one metro exit, it is not accessible to people with disabilities. It also connects via an underground passage (which seems endless) with Embajadores, which belongs to metro line 3.\"\n",
      "\"Bien\"\n",
      "\"Good\"\n",
      "\"Bonito comodo\"\n",
      "\"Nice comfortable\"\n",
      "\"He vivido 35 años en el barrio y reconozco que el metro nos dio vida y mejoró el barrio. Desgraciadamente el barrio que conocí prácticamente ha desaparecido. La gente joven se ha ido a otras zonas a vivir. Una pena\"\n",
      "\"I have lived in the neighbourhood for 35 years and I recognise that the metro gave us life and improved the neighbourhood. Unfortunately, the neighbourhood I knew has practically disappeared. Young people have gone to live in other areas. What a shame.\"\n",
      "\"localización con muchos bares interesantes\"\n",
      "\"Location with lots of interesting bars\"\n",
      "\"😂…\"\n",
      "None\n"
     ]
    },
    {
     "ename": "TypeError",
     "evalue": "unsupported operand type(s) for +: 'NoneType' and 'str'",
     "output_type": "error",
     "traceback": [
      "\u001b[1;31m---------------------------------------------------------------------------\u001b[0m",
      "\u001b[1;31mTypeError\u001b[0m                                 Traceback (most recent call last)",
      "Cell \u001b[1;32mIn[60], line 2\u001b[0m\n\u001b[0;32m      1\u001b[0m validEnglishReviewsDF, validSpanishReviewsDF \u001b[38;5;241m=\u001b[39m BackTranslation(validReviewsDF[\u001b[38;5;241m0\u001b[39m:\u001b[38;5;241m5\u001b[39m], \u001b[38;5;124m'\u001b[39m\u001b[38;5;124m3. Labeled Reviews\u001b[39m\u001b[38;5;130;01m\\\\\u001b[39;00m\u001b[38;5;124m1. Back Translation\u001b[39m\u001b[38;5;130;01m\\\\\u001b[39;00m\u001b[38;5;124mValidEnglishReviews.txt\u001b[39m\u001b[38;5;124m'\u001b[39m, \u001b[38;5;124m'\u001b[39m\u001b[38;5;124m3. Labeled Reviews\u001b[39m\u001b[38;5;130;01m\\\\\u001b[39;00m\u001b[38;5;124m1. Back Translation\u001b[39m\u001b[38;5;130;01m\\\\\u001b[39;00m\u001b[38;5;124mValidSpanishReviews.txt\u001b[39m\u001b[38;5;124m'\u001b[39m)\n\u001b[1;32m----> 2\u001b[0m invalidEnglishReviewsDF, invalidSpanishReviewsDF \u001b[38;5;241m=\u001b[39m BackTranslation(invalidReviewsDF[\u001b[38;5;241m0\u001b[39m:\u001b[38;5;241m5\u001b[39m], \u001b[38;5;124m'\u001b[39m\u001b[38;5;124m3. Labeled Reviews\u001b[39m\u001b[38;5;130;01m\\\\\u001b[39;00m\u001b[38;5;124m1. Back Translation\u001b[39m\u001b[38;5;130;01m\\\\\u001b[39;00m\u001b[38;5;124mInvalidEnglishReviews.txt\u001b[39m\u001b[38;5;124m'\u001b[39m, \u001b[38;5;124m'\u001b[39m\u001b[38;5;124m3. Labeled Reviews\u001b[39m\u001b[38;5;130;01m\\\\\u001b[39;00m\u001b[38;5;124m1. Back Translation\u001b[39m\u001b[38;5;130;01m\\\\\u001b[39;00m\u001b[38;5;124mInvalidSpanishReviews.txt\u001b[39m\u001b[38;5;124m'\u001b[39m)\n",
      "Cell \u001b[1;32mIn[59], line 21\u001b[0m, in \u001b[0;36mBackTranslation\u001b[1;34m(reviewsDF, englishPath, spanishPath)\u001b[0m\n\u001b[0;32m     19\u001b[0m \u001b[38;5;28mprint\u001b[39m(englishTranslation)\n\u001b[0;32m     20\u001b[0m englishReviewsDF \u001b[38;5;241m=\u001b[39m pd\u001b[38;5;241m.\u001b[39mconcat([englishReviewsDF, pd\u001b[38;5;241m.\u001b[39mDataFrame({\u001b[38;5;124m\"\u001b[39m\u001b[38;5;124mText\u001b[39m\u001b[38;5;124m\"\u001b[39m : [englishTranslation]})], ignore_index \u001b[38;5;241m=\u001b[39m \u001b[38;5;28;01mTrue\u001b[39;00m)\n\u001b[1;32m---> 21\u001b[0m englishReviewsFile\u001b[38;5;241m.\u001b[39mwrite(englishTranslation \u001b[38;5;241m+\u001b[39m \u001b[38;5;124m\"\u001b[39m\u001b[38;5;130;01m\\n\u001b[39;00m\u001b[38;5;124m\"\u001b[39m)\n\u001b[0;32m     23\u001b[0m \u001b[38;5;66;03m#Translate back to spanish\u001b[39;00m\n\u001b[0;32m     24\u001b[0m \u001b[38;5;28;01mtry\u001b[39;00m:\n",
      "\u001b[1;31mTypeError\u001b[0m: unsupported operand type(s) for +: 'NoneType' and 'str'"
     ]
    }
   ],
   "source": [
    "validEnglishReviewsDF, validSpanishReviewsDF = BackTranslation(validReviewsDF[0:5], '3. Labeled Reviews\\\\1. Back Translation\\\\ValidEnglishReviews.txt', '3. Labeled Reviews\\\\1. Back Translation\\\\ValidSpanishReviews.txt')\n",
    "invalidEnglishReviewsDF, invalidSpanishReviewsDF = BackTranslation(invalidReviewsDF[0:5], '3. Labeled Reviews\\\\1. Back Translation\\\\InvalidEnglishReviews.txt', '3. Labeled Reviews\\\\1. Back Translation\\\\InvalidSpanishReviews.txt')\n"
   ]
  },
  {
   "cell_type": "code",
   "execution_count": null,
   "id": "4a2d8655-dc3f-4f0c-b974-5e4f23d0e9d0",
   "metadata": {},
   "outputs": [],
   "source": [
    "validEnglishReviewsDF.head()"
   ]
  },
  {
   "cell_type": "code",
   "execution_count": null,
   "id": "9bb23ae1-d885-43ee-9181-31453859c425",
   "metadata": {},
   "outputs": [],
   "source": [
    "validSpanishReviewsDF.head()"
   ]
  },
  {
   "cell_type": "code",
   "execution_count": null,
   "id": "3a16a924-ea0a-47fd-b840-1ad6962bda33",
   "metadata": {},
   "outputs": [],
   "source": [
    "invalidEnglishReviewsDF.head()"
   ]
  },
  {
   "cell_type": "code",
   "execution_count": null,
   "id": "aeb9dddd-8461-41e9-b5c2-bc6081e5c205",
   "metadata": {},
   "outputs": [],
   "source": [
    "invalidSpanishReviewsDF.head()"
   ]
  }
 ],
 "metadata": {
  "kernelspec": {
   "display_name": "Python 3 (ipykernel)",
   "language": "python",
   "name": "python3"
  },
  "language_info": {
   "codemirror_mode": {
    "name": "ipython",
    "version": 3
   },
   "file_extension": ".py",
   "mimetype": "text/x-python",
   "name": "python",
   "nbconvert_exporter": "python",
   "pygments_lexer": "ipython3",
   "version": "3.11.9"
  }
 },
 "nbformat": 4,
 "nbformat_minor": 5
}
